{
 "cells": [
  {
   "cell_type": "code",
   "execution_count": null,
   "metadata": {},
   "outputs": [],
   "source": [
    "import random\n",
    "import csv\n",
    "import time\n",
    "import pandas as pd\n",
    "import numpy as np\n",
    "from sklearn.metrics.pairwise import cosine_similarity\n",
    "from sklearn.metrics import mean_squared_error\n",
    "from math import sqrt\n"
   ]
  },
  {
   "cell_type": "code",
   "execution_count": null,
   "metadata": {},
   "outputs": [],
   "source": [
    "um= pd.read_csv('csv\\\\utility_matrix_1.csv',index_col=0)\n"
   ]
  },
  {
   "cell_type": "code",
   "execution_count": null,
   "metadata": {},
   "outputs": [],
   "source": [
    "def standardize(row):\n",
    "    new_row=(row-row.mean())/(row.max()-row.min())\n",
    "    return new_row\n",
    "def center(row):\n",
    "    new_row=(row-row.mean())\n",
    "    return new_row"
   ]
  },
  {
   "cell_type": "code",
   "execution_count": null,
   "metadata": {},
   "outputs": [],
   "source": [
    "def k_nearest_neighbor(arr,k):\n",
    "    n,m=arr.shape\n",
    "    #get the indexes of the (n-k) least similar items to set to 0 \n",
    "    for i in range(n):\n",
    "        arr[i][arr[i].argmax()]=0\n",
    "        indexes=arr[i].argsort()[:m-k].tolist()\n",
    "        arr[i][indexes]=0\n",
    "    return(arr)"
   ]
  },
  {
   "cell_type": "code",
   "execution_count": null,
   "metadata": {},
   "outputs": [],
   "source": [
    "def predict(utility_matrix, q_sim_neighbors, u_sim_neighbors, u_sim_weight, q_sim_weight):\n",
    "    utility_matrix_copy = utility_matrix.fillna(0)\n",
    "    output = utility_matrix_copy.copy()\n",
    "    \n",
    "    # Get the columns of the utility matrix\n",
    "    columns = utility_matrix.axes[1]\n",
    "    \n",
    "    # Create similarity matrices for users and querries using cosine similarity and standardizing the utility matrix\n",
    "    q_sim_matrix = cosine_similarity(utility_matrix_copy.T.apply(standardize))\n",
    "    u_sim_matrix = cosine_similarity(utility_matrix_copy.apply(standardize))\n",
    "    \n",
    "    # Apply k-nearest neighbors to the similarity matrices using the input parameters\n",
    "    u_sim_matrix = np.round(k_nearest_neighbor(u_sim_matrix, u_sim_neighbors), 3)\n",
    "    q_sim_matrix = np.round(k_nearest_neighbor(q_sim_matrix, q_sim_neighbors), 3)\n",
    "    \n",
    "    # Find all the locations in the utility matrix where there is a missing value\n",
    "    scores_to_predict = np.array(np.where(utility_matrix.fillna(0)== 0)).T\n",
    "    for i,j in scores_to_predict:\n",
    "        # Calculate the user similarity score and query similarity score\n",
    "        q_score = np.dot(utility_matrix_copy.iloc[i], q_sim_matrix[j])/np.dot(q_sim_matrix[j], utility_matrix.iloc[i].notna())\n",
    "        u_score = np.dot(utility_matrix_copy[columns[j]], u_sim_matrix[i])/np.dot(u_sim_matrix[i], utility_matrix[columns[j]].notna())\n",
    "        \n",
    "        # Make predictions by taking a weighted sum of the user similarity score and query similarity score\n",
    "        output.iloc[i,j] = round(u_sim_weight*u_score + q_sim_weight*q_score, 2)\n",
    "    return output\n"
   ]
  },
  {
   "cell_type": "code",
   "execution_count": null,
   "metadata": {},
   "outputs": [],
   "source": [
    "print('Masking 20 % of the data to test')\n",
    "mask = np.ones((2000,2000))\n",
    "mask[1600:,1600:]=0\n",
    "data_to_test=np.array(um)\n",
    "data_to_test[np.logical_not(mask)] = None\n",
    "data_to_test_df=pd.DataFrame(data_to_test,columns= um.axes[1],index=um.axes[0])\n",
    "print('Mask done')"
   ]
  },
  {
   "cell_type": "code",
   "execution_count": null,
   "metadata": {},
   "outputs": [],
   "source": [
    "x=np.arange(0,1.1,0.1)\n",
    "y=[]\n",
    "for i in x:\n",
    "    print('q_sim_weight:',i)\n",
    "    pred=predict(data_to_test_df,q_sim_weight=i,q_sim_neighbors=500, u_sim_neighbors=200,u_sim_weight=1-i)\n",
    "    pred1=pred[um.notna()]\n",
    "    y_pred=np.array(pred1.fillna(0))[np.logical_not(mask)]\n",
    "    y_truth=np.array(um.fillna(0))[np.logical_not(mask)]\n",
    "    y.append(sqrt(mean_squared_error(y_pred=y_pred,y_true=y_truth)))\n",
    "    print('RMSE:',sqrt(mean_squared_error(y_pred=y_pred,y_true=y_truth)))"
   ]
  },
  {
   "cell_type": "code",
   "execution_count": null,
   "metadata": {},
   "outputs": [],
   "source": []
  }
 ],
 "metadata": {
  "kernelspec": {
   "display_name": "Python 3",
   "language": "python",
   "name": "python3"
  },
  "language_info": {
   "codemirror_mode": {
    "name": "ipython",
    "version": 3
   },
   "file_extension": ".py",
   "mimetype": "text/x-python",
   "name": "python",
   "nbconvert_exporter": "python",
   "pygments_lexer": "ipython3",
   "version": "3.9.7 (tags/v3.9.7:1016ef3, Aug 30 2021, 20:19:38) [MSC v.1929 64 bit (AMD64)]"
  },
  "orig_nbformat": 4,
  "vscode": {
   "interpreter": {
    "hash": "8f8cf99212f81ad0c4765861267244807ee1c18364846cdce387b28994a977ba"
   }
  }
 },
 "nbformat": 4,
 "nbformat_minor": 2
}
