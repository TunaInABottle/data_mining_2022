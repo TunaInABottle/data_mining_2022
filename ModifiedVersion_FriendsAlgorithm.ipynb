{
  "cells": [
    {
      "cell_type": "markdown",
      "metadata": {
        "id": "view-in-github",
        "colab_type": "text"
      },
      "source": [
        "<a href=\"https://colab.research.google.com/github/TunaInABottle/data_mining_2022/blob/main/ModifiedVersion_FriendsAlgorithm.ipynb\" target=\"_parent\"><img src=\"https://colab.research.google.com/assets/colab-badge.svg\" alt=\"Open In Colab\"/></a>"
      ]
    },
    {
      "cell_type": "code",
      "source": [
        "!git clone https://github.com/TunaInABottle/data_mining_2022.git"
      ],
      "metadata": {
        "colab": {
          "base_uri": "https://localhost:8080/"
        },
        "id": "B9poLH6TUnhl",
        "outputId": "5d97bd00-5ec1-468a-cf01-b52c715379cc"
      },
      "execution_count": 9,
      "outputs": [
        {
          "output_type": "stream",
          "name": "stdout",
          "text": [
            "fatal: destination path 'data_mining_2022' already exists and is not an empty directory.\n"
          ]
        }
      ]
    },
    {
      "cell_type": "code",
      "execution_count": null,
      "metadata": {
        "id": "RK9_1PE5S-g6"
      },
      "outputs": [],
      "source": [
        "import random\n",
        "import csv\n",
        "import time\n",
        "import pandas as pd\n",
        "import numpy as np\n",
        "from sklearn.metrics.pairwise import cosine_similarity\n",
        "from sklearn.metrics import mean_squared_error"
      ]
    },
    {
      "cell_type": "code",
      "execution_count": null,
      "metadata": {
        "colab": {
          "base_uri": "https://localhost:8080/"
        },
        "id": "qU7DNMnFS-hF",
        "outputId": "7d02bf08-cd5c-42c8-fd72-2f749a445d23"
      },
      "outputs": [
        {
          "output_type": "execute_result",
          "data": {
            "text/plain": [
              "(2000, 500)"
            ]
          },
          "metadata": {},
          "execution_count": 4
        }
      ],
      "source": [
        "\"\"\" Import our own datasets   \n",
        "\"\"\"\n",
        "um= pd.read_csv('/content/data_mining_2022/data/size_500_1/utility_matrix.csv',index_col=0)\n",
        "um.shape"
      ]
    },
    {
      "cell_type": "code",
      "execution_count": null,
      "metadata": {
        "id": "CgZQujoSS-hH"
      },
      "outputs": [],
      "source": [
        "#collaborative filtreing with query to query similarity \n",
        "def predict_queries(utility_matrix,q_sim_matrix):\n",
        "    utility_matrix_copy=utility_matrix.copy()\n",
        "    utility_matrix_copy=utility_matrix_copy - utility_matrix_copy.mean()\n",
        "    utility_matrix_copy=utility_matrix_copy.fillna(0)\n",
        "    #get utility matrix dimensions\n",
        "    rows = len(utility_matrix.axes[0])\n",
        "    cols = len(utility_matrix.axes[1])\n",
        "    for k in range(rows):\n",
        "        for l in range(cols):\n",
        "            if utility_matrix_copy.iloc[k,l]==0:\n",
        "                weighted_score=np.dot(utility_matrix_copy.iloc[k],q_sim_matrix[l])\n",
        "                weights_used=np.dot(q_sim_matrix[l],utility_matrix.iloc[k].notna())\n",
        "                utility_matrix_copy.iloc[k,l]= round(weighted_score/weights_used,2)\n",
        "            utility_matrix_copy.iloc[k,l]=min(max(utility_matrix_copy.iloc[k,l] + utility_matrix.mean()[l],0),100)\n",
        "                \n",
        "    return utility_matrix_copy"
      ]
    },
    {
      "cell_type": "code",
      "execution_count": null,
      "metadata": {
        "id": "fBxXnK4FS-hJ"
      },
      "outputs": [],
      "source": [
        "#collaborative filtreing with user to user similarity \n",
        "def predict_users(utility_matrix,u_sim_matrix):\n",
        "    utility_matrix_copy=utility_matrix.copy()\n",
        "    utility_matrix_copy=utility_matrix_copy - utility_matrix_copy.mean()\n",
        "    utility_matrix_copy=utility_matrix_copy.fillna(0)\n",
        "\n",
        "    #get utility matrix dimensions\n",
        "    rows = len(utility_matrix.axes[0])\n",
        "    cols = len(utility_matrix.axes[1])\n",
        "    columns=utility_matrix.axes[1]\n",
        "    for k in range(rows):\n",
        "        for l in range(cols):\n",
        "            if utility_matrix_copy.iloc[k,l]==0:\n",
        "                weighted_score=np.dot(utility_matrix.fillna(0)[columns[l]],u_sim_matrix[k])\n",
        "                weights_used=np.dot(u_sim_matrix[k],utility_matrix[columns[l]].notna())\n",
        "                utility_matrix_copy.iloc[k,l]=round(weighted_score/weights_used,2)\n",
        "            utility_matrix_copy.iloc[k,l]=min(max(utility_matrix_copy.iloc[k,l] + utility_matrix.mean()[l],0),100)\n",
        "    return utility_matrix_copy\n"
      ]
    },
    {
      "cell_type": "code",
      "source": [
        "import math\n",
        "import random\n",
        "import statistics\n",
        "import seaborn as sns\n",
        "import matplotlib\n",
        "\n",
        "\n",
        "def test_err (Train_matrix, L, queries_similarity=True, tpred=20, predi=70):\n",
        "  #Root-mean-square error\n",
        "  if queries_similarity:\n",
        "    #Compute queries similarity matrix\n",
        "    q_sim_matrix=cosine_similarity(Train_matrix.fillna(0).T) \n",
        "    pred=predict_queries(Train_matrix,q_sim_matrix)  \n",
        "  else:    \n",
        "    #Compute user similarity matrix\n",
        "    #u_sim_matrix=cosine_similarity(Train_matrix.fillna(0))\n",
        "    u_sim_matrix=pd.DataFrame(np.array(cosine_similarity(utility_matrix.fillna(0)))[0:100,:])\n",
        "    pred=predict_queries(Train_matrix,u_sim_matrix)\n",
        "  s=0\n",
        "  TP=0\n",
        "  TP_FN=0\n",
        "  Recomm_queries=0\n",
        "  if len(L)>0 :\n",
        "    for i in L:\n",
        "      s+= (i[0] - pred.iloc[i[1], i[2]])**2\n",
        "      if abs(i[0] - pred.iloc[i[1], i[2]])<= tpred:\n",
        "        TP_FN+=1\n",
        "        if pred.iloc[i[1], i[2]] >= predi:\n",
        "          TP+=1\n",
        "      if pred.iloc[i[1], i[2]] >= predi:\n",
        "        Recomm_queries+=1\n",
        "    s= math.sqrt(s/len(L))\n",
        "    \n",
        "  return( [s, TP, TP_FN, Recomm_queries] )\n",
        "\n",
        "\n",
        "def create_folds (utility_matrix, n, n_folds):\n",
        "  \"\"\" Create X_train, X_test, in order to be able to train the algorithm on (n_folds)-1 folds,\n",
        "      and test it on the remaining one, n_folds times\n",
        "      :param utility_matrix: the utility matrix\n",
        "      :param n: number of the iteration (the execution of the hole algorithm of the train/test)\n",
        "      :param n_folds: number of folds\n",
        "      :returns new_df: X_train\n",
        "      :returns l: list of the values, and their indexes, left for X_test\n",
        "  \"\"\"\n",
        "  new_df=utility_matrix.copy()\n",
        "  #new_df.drop(columns='user_id', inplace=True)\n",
        "  l=[]\n",
        "  for i in range (len(new_df)//n_folds) :\n",
        "    for j in range (len(new_df.columns)//n_folds):\n",
        "      j=j+n*n_folds \n",
        "      for k in range (n_folds):\n",
        "        u=(i+k*n_folds) % len(new_df)\n",
        "        v=(j+k*n_folds) % len(new_df.columns)\n",
        "        if not(pd.isna(new_df.iat[u, v])):\n",
        "          l.append([new_df.iloc[u, v], u, v])\n",
        "          new_df.iloc[u, v] = np.nan\n",
        "\n",
        "  #new_df.insert(0, 'user_id', utility_matrix['user_id'])\n",
        "  return(new_df, l)\n",
        "\n",
        "from operator import add \n",
        "\n",
        "def Precision (TP, pred):\n",
        "  return(TP/pred)\n",
        "def Recall (TP,TP_FN):\n",
        "  return(TP/TP_FN)\n",
        "def F1_score (precision, recall):\n",
        "  return(2*precision*recall/(precision+recall))\n",
        "\n",
        "def cross_validation(utility_matrix, n_folds, queries_similarity=True):\n",
        "  \"\"\" Evaluate the model using cross validation\n",
        "      :param utility_matrix: the utility matrix\n",
        "      :param asked_queries: full description of the queries\n",
        "      :param query_combinations: a table containing all keys and values a query can have\n",
        "      :param n_folds: number of folds\n",
        "      :returns: the computed error \n",
        "  \"\"\"  \n",
        "  F=[0, 0, 0, 0]\n",
        "  for i in range (n_folds):\n",
        "    # Split the data into training and test sets\n",
        "    new_df, l= create_folds (utility_matrix, i, n_folds)\n",
        "    # Add the error of iteration i\n",
        "    T= test_err (new_df, l, queries_similarity)\n",
        "    F=list(map(add, T, F))\n",
        "  F[0]=F[0]/n_folds\n",
        "  if F[1]!=0:\n",
        "    p = Precision (F[1], F[3])\n",
        "    r = Recall(F[1], F[2])\n",
        "    F[3] = F1_score(p,r)\n",
        "    F[1] = p\n",
        "    F[2] = r\n",
        "  return(F)"
      ],
      "metadata": {
        "id": "6KFUQCTDWPWs"
      },
      "execution_count": null,
      "outputs": []
    },
    {
      "cell_type": "code",
      "source": [
        "p=\"100_1\"\n",
        "utility_matrix= pd.read_csv('/content/data_mining_2022/data/size_' + p + '/utility_matrix.csv',index_col=0)\n",
        "cross_validation(utility_matrix, 10, False)\n"
      ],
      "metadata": {
        "colab": {
          "base_uri": "https://localhost:8080/",
          "height": 346
        },
        "id": "heE6KZCsreWX",
        "outputId": "52444a38-308f-45fc-87d9-5604f9b192c3"
      },
      "execution_count": null,
      "outputs": [
        {
          "output_type": "error",
          "ename": "KeyboardInterrupt",
          "evalue": "ignored",
          "traceback": [
            "\u001b[0;31m---------------------------------------------------------------------------\u001b[0m",
            "\u001b[0;31mKeyboardInterrupt\u001b[0m                         Traceback (most recent call last)",
            "\u001b[0;32m<ipython-input-46-d17e1d683f90>\u001b[0m in \u001b[0;36m<module>\u001b[0;34m\u001b[0m\n\u001b[1;32m      1\u001b[0m \u001b[0mp\u001b[0m\u001b[0;34m=\u001b[0m\u001b[0;34m\"100_1\"\u001b[0m\u001b[0;34m\u001b[0m\u001b[0;34m\u001b[0m\u001b[0m\n\u001b[1;32m      2\u001b[0m \u001b[0mutility_matrix\u001b[0m\u001b[0;34m=\u001b[0m \u001b[0mpd\u001b[0m\u001b[0;34m.\u001b[0m\u001b[0mread_csv\u001b[0m\u001b[0;34m(\u001b[0m\u001b[0;34m'/content/data_mining_2022/data/size_'\u001b[0m \u001b[0;34m+\u001b[0m \u001b[0mp\u001b[0m \u001b[0;34m+\u001b[0m \u001b[0;34m'/utility_matrix.csv'\u001b[0m\u001b[0;34m,\u001b[0m\u001b[0mindex_col\u001b[0m\u001b[0;34m=\u001b[0m\u001b[0;36m0\u001b[0m\u001b[0;34m)\u001b[0m\u001b[0;34m\u001b[0m\u001b[0;34m\u001b[0m\u001b[0m\n\u001b[0;32m----> 3\u001b[0;31m \u001b[0mcross_validation\u001b[0m\u001b[0;34m(\u001b[0m\u001b[0mutility_matrix\u001b[0m\u001b[0;34m,\u001b[0m \u001b[0;36m10\u001b[0m\u001b[0;34m,\u001b[0m \u001b[0;32mFalse\u001b[0m\u001b[0;34m)\u001b[0m\u001b[0;34m\u001b[0m\u001b[0;34m\u001b[0m\u001b[0m\n\u001b[0m",
            "\u001b[0;32m<ipython-input-45-eaadb4c17c76>\u001b[0m in \u001b[0;36mcross_validation\u001b[0;34m(utility_matrix, n_folds, queries_similarity)\u001b[0m\n\u001b[1;32m     82\u001b[0m     \u001b[0mnew_df\u001b[0m\u001b[0;34m,\u001b[0m \u001b[0ml\u001b[0m\u001b[0;34m=\u001b[0m \u001b[0mcreate_folds\u001b[0m \u001b[0;34m(\u001b[0m\u001b[0mutility_matrix\u001b[0m\u001b[0;34m,\u001b[0m \u001b[0mi\u001b[0m\u001b[0;34m,\u001b[0m \u001b[0mn_folds\u001b[0m\u001b[0;34m)\u001b[0m\u001b[0;34m\u001b[0m\u001b[0;34m\u001b[0m\u001b[0m\n\u001b[1;32m     83\u001b[0m     \u001b[0;31m# Add the error of iteration i\u001b[0m\u001b[0;34m\u001b[0m\u001b[0;34m\u001b[0m\u001b[0;34m\u001b[0m\u001b[0m\n\u001b[0;32m---> 84\u001b[0;31m     \u001b[0mT\u001b[0m\u001b[0;34m=\u001b[0m \u001b[0mtest_err\u001b[0m \u001b[0;34m(\u001b[0m\u001b[0mnew_df\u001b[0m\u001b[0;34m,\u001b[0m \u001b[0ml\u001b[0m\u001b[0;34m,\u001b[0m \u001b[0mqueries_similarity\u001b[0m\u001b[0;34m)\u001b[0m\u001b[0;34m\u001b[0m\u001b[0;34m\u001b[0m\u001b[0m\n\u001b[0m\u001b[1;32m     85\u001b[0m     \u001b[0mF\u001b[0m\u001b[0;34m=\u001b[0m\u001b[0mlist\u001b[0m\u001b[0;34m(\u001b[0m\u001b[0mmap\u001b[0m\u001b[0;34m(\u001b[0m\u001b[0madd\u001b[0m\u001b[0;34m,\u001b[0m \u001b[0mT\u001b[0m\u001b[0;34m,\u001b[0m \u001b[0mF\u001b[0m\u001b[0;34m)\u001b[0m\u001b[0;34m)\u001b[0m\u001b[0;34m\u001b[0m\u001b[0;34m\u001b[0m\u001b[0m\n\u001b[1;32m     86\u001b[0m   \u001b[0mF\u001b[0m\u001b[0;34m[\u001b[0m\u001b[0;36m0\u001b[0m\u001b[0;34m]\u001b[0m\u001b[0;34m=\u001b[0m\u001b[0mF\u001b[0m\u001b[0;34m[\u001b[0m\u001b[0;36m0\u001b[0m\u001b[0;34m]\u001b[0m\u001b[0;34m/\u001b[0m\u001b[0mn_folds\u001b[0m\u001b[0;34m\u001b[0m\u001b[0;34m\u001b[0m\u001b[0m\n",
            "\u001b[0;32m<ipython-input-45-eaadb4c17c76>\u001b[0m in \u001b[0;36mtest_err\u001b[0;34m(Train_matrix, L, queries_similarity, tpred, predi)\u001b[0m\n\u001b[1;32m     16\u001b[0m     \u001b[0;31m#u_sim_matrix=cosine_similarity(Train_matrix.fillna(0))\u001b[0m\u001b[0;34m\u001b[0m\u001b[0;34m\u001b[0m\u001b[0;34m\u001b[0m\u001b[0m\n\u001b[1;32m     17\u001b[0m     \u001b[0mu_sim_matrix\u001b[0m\u001b[0;34m=\u001b[0m\u001b[0mpd\u001b[0m\u001b[0;34m.\u001b[0m\u001b[0mDataFrame\u001b[0m\u001b[0;34m(\u001b[0m\u001b[0mnp\u001b[0m\u001b[0;34m.\u001b[0m\u001b[0marray\u001b[0m\u001b[0;34m(\u001b[0m\u001b[0mcosine_similarity\u001b[0m\u001b[0;34m(\u001b[0m\u001b[0mutility_matrix\u001b[0m\u001b[0;34m.\u001b[0m\u001b[0mfillna\u001b[0m\u001b[0;34m(\u001b[0m\u001b[0;36m0\u001b[0m\u001b[0;34m)\u001b[0m\u001b[0;34m)\u001b[0m\u001b[0;34m)\u001b[0m\u001b[0;34m[\u001b[0m\u001b[0;36m0\u001b[0m\u001b[0;34m:\u001b[0m\u001b[0;36m100\u001b[0m\u001b[0;34m,\u001b[0m\u001b[0;34m:\u001b[0m\u001b[0;34m]\u001b[0m\u001b[0;34m)\u001b[0m\u001b[0;34m\u001b[0m\u001b[0;34m\u001b[0m\u001b[0m\n\u001b[0;32m---> 18\u001b[0;31m     \u001b[0mpred\u001b[0m\u001b[0;34m=\u001b[0m\u001b[0mpredict_queries\u001b[0m\u001b[0;34m(\u001b[0m\u001b[0mTrain_matrix\u001b[0m\u001b[0;34m,\u001b[0m\u001b[0mu_sim_matrix\u001b[0m\u001b[0;34m)\u001b[0m\u001b[0;34m\u001b[0m\u001b[0;34m\u001b[0m\u001b[0m\n\u001b[0m\u001b[1;32m     19\u001b[0m   \u001b[0ms\u001b[0m\u001b[0;34m=\u001b[0m\u001b[0;36m0\u001b[0m\u001b[0;34m\u001b[0m\u001b[0;34m\u001b[0m\u001b[0m\n\u001b[1;32m     20\u001b[0m   \u001b[0mTP\u001b[0m\u001b[0;34m=\u001b[0m\u001b[0;36m0\u001b[0m\u001b[0;34m\u001b[0m\u001b[0;34m\u001b[0m\u001b[0m\n",
            "\u001b[0;32m<ipython-input-3-298802c923ba>\u001b[0m in \u001b[0;36mpredict_queries\u001b[0;34m(utility_matrix, q_sim_matrix)\u001b[0m\n\u001b[1;32m     11\u001b[0m             \u001b[0;32mif\u001b[0m \u001b[0mutility_matrix_copy\u001b[0m\u001b[0;34m.\u001b[0m\u001b[0miloc\u001b[0m\u001b[0;34m[\u001b[0m\u001b[0mk\u001b[0m\u001b[0;34m,\u001b[0m\u001b[0ml\u001b[0m\u001b[0;34m]\u001b[0m\u001b[0;34m==\u001b[0m\u001b[0;36m0\u001b[0m\u001b[0;34m:\u001b[0m\u001b[0;34m\u001b[0m\u001b[0;34m\u001b[0m\u001b[0m\n\u001b[1;32m     12\u001b[0m                 \u001b[0mweighted_score\u001b[0m\u001b[0;34m=\u001b[0m\u001b[0mnp\u001b[0m\u001b[0;34m.\u001b[0m\u001b[0mdot\u001b[0m\u001b[0;34m(\u001b[0m\u001b[0mutility_matrix_copy\u001b[0m\u001b[0;34m.\u001b[0m\u001b[0miloc\u001b[0m\u001b[0;34m[\u001b[0m\u001b[0mk\u001b[0m\u001b[0;34m]\u001b[0m\u001b[0;34m,\u001b[0m\u001b[0mq_sim_matrix\u001b[0m\u001b[0;34m[\u001b[0m\u001b[0ml\u001b[0m\u001b[0;34m]\u001b[0m\u001b[0;34m)\u001b[0m\u001b[0;34m\u001b[0m\u001b[0;34m\u001b[0m\u001b[0m\n\u001b[0;32m---> 13\u001b[0;31m                 \u001b[0mweights_used\u001b[0m\u001b[0;34m=\u001b[0m\u001b[0mnp\u001b[0m\u001b[0;34m.\u001b[0m\u001b[0mdot\u001b[0m\u001b[0;34m(\u001b[0m\u001b[0mq_sim_matrix\u001b[0m\u001b[0;34m[\u001b[0m\u001b[0ml\u001b[0m\u001b[0;34m]\u001b[0m\u001b[0;34m,\u001b[0m\u001b[0mutility_matrix\u001b[0m\u001b[0;34m.\u001b[0m\u001b[0miloc\u001b[0m\u001b[0;34m[\u001b[0m\u001b[0mk\u001b[0m\u001b[0;34m]\u001b[0m\u001b[0;34m.\u001b[0m\u001b[0mnotna\u001b[0m\u001b[0;34m(\u001b[0m\u001b[0;34m)\u001b[0m\u001b[0;34m)\u001b[0m\u001b[0;34m\u001b[0m\u001b[0;34m\u001b[0m\u001b[0m\n\u001b[0m\u001b[1;32m     14\u001b[0m                 \u001b[0mutility_matrix_copy\u001b[0m\u001b[0;34m.\u001b[0m\u001b[0miloc\u001b[0m\u001b[0;34m[\u001b[0m\u001b[0mk\u001b[0m\u001b[0;34m,\u001b[0m\u001b[0ml\u001b[0m\u001b[0;34m]\u001b[0m\u001b[0;34m=\u001b[0m \u001b[0mround\u001b[0m\u001b[0;34m(\u001b[0m\u001b[0mweighted_score\u001b[0m\u001b[0;34m/\u001b[0m\u001b[0mweights_used\u001b[0m\u001b[0;34m,\u001b[0m\u001b[0;36m2\u001b[0m\u001b[0;34m)\u001b[0m\u001b[0;34m\u001b[0m\u001b[0;34m\u001b[0m\u001b[0m\n\u001b[1;32m     15\u001b[0m             \u001b[0mutility_matrix_copy\u001b[0m\u001b[0;34m.\u001b[0m\u001b[0miloc\u001b[0m\u001b[0;34m[\u001b[0m\u001b[0mk\u001b[0m\u001b[0;34m,\u001b[0m\u001b[0ml\u001b[0m\u001b[0;34m]\u001b[0m\u001b[0;34m=\u001b[0m\u001b[0mmin\u001b[0m\u001b[0;34m(\u001b[0m\u001b[0mmax\u001b[0m\u001b[0;34m(\u001b[0m\u001b[0mutility_matrix_copy\u001b[0m\u001b[0;34m.\u001b[0m\u001b[0miloc\u001b[0m\u001b[0;34m[\u001b[0m\u001b[0mk\u001b[0m\u001b[0;34m,\u001b[0m\u001b[0ml\u001b[0m\u001b[0;34m]\u001b[0m \u001b[0;34m+\u001b[0m \u001b[0mutility_matrix\u001b[0m\u001b[0;34m.\u001b[0m\u001b[0mmean\u001b[0m\u001b[0;34m(\u001b[0m\u001b[0;34m)\u001b[0m\u001b[0;34m[\u001b[0m\u001b[0ml\u001b[0m\u001b[0;34m]\u001b[0m\u001b[0;34m,\u001b[0m\u001b[0;36m0\u001b[0m\u001b[0;34m)\u001b[0m\u001b[0;34m,\u001b[0m\u001b[0;36m100\u001b[0m\u001b[0;34m)\u001b[0m\u001b[0;34m\u001b[0m\u001b[0;34m\u001b[0m\u001b[0m\n",
            "\u001b[0;32m/usr/local/lib/python3.8/dist-packages/pandas/core/indexing.py\u001b[0m in \u001b[0;36m__getitem__\u001b[0;34m(self, key)\u001b[0m\n\u001b[1;32m    929\u001b[0m \u001b[0;34m\u001b[0m\u001b[0m\n\u001b[1;32m    930\u001b[0m             \u001b[0mmaybe_callable\u001b[0m \u001b[0;34m=\u001b[0m \u001b[0mcom\u001b[0m\u001b[0;34m.\u001b[0m\u001b[0mapply_if_callable\u001b[0m\u001b[0;34m(\u001b[0m\u001b[0mkey\u001b[0m\u001b[0;34m,\u001b[0m \u001b[0mself\u001b[0m\u001b[0;34m.\u001b[0m\u001b[0mobj\u001b[0m\u001b[0;34m)\u001b[0m\u001b[0;34m\u001b[0m\u001b[0;34m\u001b[0m\u001b[0m\n\u001b[0;32m--> 931\u001b[0;31m             \u001b[0;32mreturn\u001b[0m \u001b[0mself\u001b[0m\u001b[0;34m.\u001b[0m\u001b[0m_getitem_axis\u001b[0m\u001b[0;34m(\u001b[0m\u001b[0mmaybe_callable\u001b[0m\u001b[0;34m,\u001b[0m \u001b[0maxis\u001b[0m\u001b[0;34m=\u001b[0m\u001b[0maxis\u001b[0m\u001b[0;34m)\u001b[0m\u001b[0;34m\u001b[0m\u001b[0;34m\u001b[0m\u001b[0m\n\u001b[0m\u001b[1;32m    932\u001b[0m \u001b[0;34m\u001b[0m\u001b[0m\n\u001b[1;32m    933\u001b[0m     \u001b[0;32mdef\u001b[0m \u001b[0m_is_scalar_access\u001b[0m\u001b[0;34m(\u001b[0m\u001b[0mself\u001b[0m\u001b[0;34m,\u001b[0m \u001b[0mkey\u001b[0m\u001b[0;34m:\u001b[0m \u001b[0mtuple\u001b[0m\u001b[0;34m)\u001b[0m\u001b[0;34m:\u001b[0m\u001b[0;34m\u001b[0m\u001b[0;34m\u001b[0m\u001b[0m\n",
            "\u001b[0;32m/usr/local/lib/python3.8/dist-packages/pandas/core/indexing.py\u001b[0m in \u001b[0;36m_getitem_axis\u001b[0;34m(self, key, axis)\u001b[0m\n\u001b[1;32m   1566\u001b[0m             \u001b[0mself\u001b[0m\u001b[0;34m.\u001b[0m\u001b[0m_validate_integer\u001b[0m\u001b[0;34m(\u001b[0m\u001b[0mkey\u001b[0m\u001b[0;34m,\u001b[0m \u001b[0maxis\u001b[0m\u001b[0;34m)\u001b[0m\u001b[0;34m\u001b[0m\u001b[0;34m\u001b[0m\u001b[0m\n\u001b[1;32m   1567\u001b[0m \u001b[0;34m\u001b[0m\u001b[0m\n\u001b[0;32m-> 1568\u001b[0;31m             \u001b[0;32mreturn\u001b[0m \u001b[0mself\u001b[0m\u001b[0;34m.\u001b[0m\u001b[0mobj\u001b[0m\u001b[0;34m.\u001b[0m\u001b[0m_ixs\u001b[0m\u001b[0;34m(\u001b[0m\u001b[0mkey\u001b[0m\u001b[0;34m,\u001b[0m \u001b[0maxis\u001b[0m\u001b[0;34m=\u001b[0m\u001b[0maxis\u001b[0m\u001b[0;34m)\u001b[0m\u001b[0;34m\u001b[0m\u001b[0;34m\u001b[0m\u001b[0m\n\u001b[0m\u001b[1;32m   1569\u001b[0m \u001b[0;34m\u001b[0m\u001b[0m\n\u001b[1;32m   1570\u001b[0m     \u001b[0;32mdef\u001b[0m \u001b[0m_get_slice_axis\u001b[0m\u001b[0;34m(\u001b[0m\u001b[0mself\u001b[0m\u001b[0;34m,\u001b[0m \u001b[0mslice_obj\u001b[0m\u001b[0;34m:\u001b[0m \u001b[0mslice\u001b[0m\u001b[0;34m,\u001b[0m \u001b[0maxis\u001b[0m\u001b[0;34m:\u001b[0m \u001b[0mint\u001b[0m\u001b[0;34m)\u001b[0m\u001b[0;34m:\u001b[0m\u001b[0;34m\u001b[0m\u001b[0;34m\u001b[0m\u001b[0m\n",
            "\u001b[0;32m/usr/local/lib/python3.8/dist-packages/pandas/core/frame.py\u001b[0m in \u001b[0;36m_ixs\u001b[0;34m(self, i, axis)\u001b[0m\n\u001b[1;32m   3381\u001b[0m             \u001b[0;31m# if we are a copy, mark as such\u001b[0m\u001b[0;34m\u001b[0m\u001b[0;34m\u001b[0m\u001b[0;34m\u001b[0m\u001b[0m\n\u001b[1;32m   3382\u001b[0m             \u001b[0mcopy\u001b[0m \u001b[0;34m=\u001b[0m \u001b[0misinstance\u001b[0m\u001b[0;34m(\u001b[0m\u001b[0mnew_values\u001b[0m\u001b[0;34m,\u001b[0m \u001b[0mnp\u001b[0m\u001b[0;34m.\u001b[0m\u001b[0mndarray\u001b[0m\u001b[0;34m)\u001b[0m \u001b[0;32mand\u001b[0m \u001b[0mnew_values\u001b[0m\u001b[0;34m.\u001b[0m\u001b[0mbase\u001b[0m \u001b[0;32mis\u001b[0m \u001b[0;32mNone\u001b[0m\u001b[0;34m\u001b[0m\u001b[0;34m\u001b[0m\u001b[0m\n\u001b[0;32m-> 3383\u001b[0;31m             result = self._constructor_sliced(\n\u001b[0m\u001b[1;32m   3384\u001b[0m                 \u001b[0mnew_values\u001b[0m\u001b[0;34m,\u001b[0m\u001b[0;34m\u001b[0m\u001b[0;34m\u001b[0m\u001b[0m\n\u001b[1;32m   3385\u001b[0m                 \u001b[0mindex\u001b[0m\u001b[0;34m=\u001b[0m\u001b[0mself\u001b[0m\u001b[0;34m.\u001b[0m\u001b[0mcolumns\u001b[0m\u001b[0;34m,\u001b[0m\u001b[0;34m\u001b[0m\u001b[0;34m\u001b[0m\u001b[0m\n",
            "\u001b[0;32m/usr/local/lib/python3.8/dist-packages/pandas/core/series.py\u001b[0m in \u001b[0;36m__init__\u001b[0;34m(self, data, index, dtype, name, copy, fastpath)\u001b[0m\n\u001b[1;32m    353\u001b[0m             \u001b[0mname\u001b[0m \u001b[0;34m=\u001b[0m \u001b[0mibase\u001b[0m\u001b[0;34m.\u001b[0m\u001b[0mmaybe_extract_name\u001b[0m\u001b[0;34m(\u001b[0m\u001b[0mname\u001b[0m\u001b[0;34m,\u001b[0m \u001b[0mdata\u001b[0m\u001b[0;34m,\u001b[0m \u001b[0mtype\u001b[0m\u001b[0;34m(\u001b[0m\u001b[0mself\u001b[0m\u001b[0;34m)\u001b[0m\u001b[0;34m)\u001b[0m\u001b[0;34m\u001b[0m\u001b[0;34m\u001b[0m\u001b[0m\n\u001b[1;32m    354\u001b[0m \u001b[0;34m\u001b[0m\u001b[0m\n\u001b[0;32m--> 355\u001b[0;31m             \u001b[0;32mif\u001b[0m \u001b[0mis_empty_data\u001b[0m\u001b[0;34m(\u001b[0m\u001b[0mdata\u001b[0m\u001b[0;34m)\u001b[0m \u001b[0;32mand\u001b[0m \u001b[0mdtype\u001b[0m \u001b[0;32mis\u001b[0m \u001b[0;32mNone\u001b[0m\u001b[0;34m:\u001b[0m\u001b[0;34m\u001b[0m\u001b[0;34m\u001b[0m\u001b[0m\n\u001b[0m\u001b[1;32m    356\u001b[0m                 \u001b[0;31m# gh-17261\u001b[0m\u001b[0;34m\u001b[0m\u001b[0;34m\u001b[0m\u001b[0;34m\u001b[0m\u001b[0m\n\u001b[1;32m    357\u001b[0m                 warnings.warn(\n",
            "\u001b[0;32m/usr/local/lib/python3.8/dist-packages/pandas/core/construction.py\u001b[0m in \u001b[0;36mis_empty_data\u001b[0;34m(data)\u001b[0m\n\u001b[1;32m    793\u001b[0m     \"\"\"\n\u001b[1;32m    794\u001b[0m     \u001b[0mis_none\u001b[0m \u001b[0;34m=\u001b[0m \u001b[0mdata\u001b[0m \u001b[0;32mis\u001b[0m \u001b[0;32mNone\u001b[0m\u001b[0;34m\u001b[0m\u001b[0;34m\u001b[0m\u001b[0m\n\u001b[0;32m--> 795\u001b[0;31m     \u001b[0mis_list_like_without_dtype\u001b[0m \u001b[0;34m=\u001b[0m \u001b[0mis_list_like\u001b[0m\u001b[0;34m(\u001b[0m\u001b[0mdata\u001b[0m\u001b[0;34m)\u001b[0m \u001b[0;32mand\u001b[0m \u001b[0;32mnot\u001b[0m \u001b[0mhasattr\u001b[0m\u001b[0;34m(\u001b[0m\u001b[0mdata\u001b[0m\u001b[0;34m,\u001b[0m \u001b[0;34m\"dtype\"\u001b[0m\u001b[0;34m)\u001b[0m\u001b[0;34m\u001b[0m\u001b[0;34m\u001b[0m\u001b[0m\n\u001b[0m\u001b[1;32m    796\u001b[0m     \u001b[0mis_simple_empty\u001b[0m \u001b[0;34m=\u001b[0m \u001b[0mis_list_like_without_dtype\u001b[0m \u001b[0;32mand\u001b[0m \u001b[0;32mnot\u001b[0m \u001b[0mdata\u001b[0m\u001b[0;34m\u001b[0m\u001b[0;34m\u001b[0m\u001b[0m\n\u001b[1;32m    797\u001b[0m     \u001b[0;32mreturn\u001b[0m \u001b[0mis_none\u001b[0m \u001b[0;32mor\u001b[0m \u001b[0mis_simple_empty\u001b[0m\u001b[0;34m\u001b[0m\u001b[0;34m\u001b[0m\u001b[0m\n",
            "\u001b[0;31mKeyboardInterrupt\u001b[0m: "
          ]
        }
      ]
    },
    {
      "cell_type": "code",
      "source": [
        "a=\"500_1\"\n",
        "\n",
        "utility_matrix= pd.read_csv('/content/data_mining_2022/data/size_' + a + '/utility_matrix.csv',index_col=0)\n",
        "queries_sim= cross_validation(utility_matrix, 10)\n",
        "#users_sim= cross_validation(utility_matrix, 10, False)"
      ],
      "metadata": {
        "id": "kJSnF1WKCzpw"
      },
      "execution_count": null,
      "outputs": []
    },
    {
      "cell_type": "code",
      "source": [
        "queries_sim"
      ],
      "metadata": {
        "colab": {
          "base_uri": "https://localhost:8080/"
        },
        "id": "vKOYys4m1mi0",
        "outputId": "10286f62-07c9-4a0e-ba4c-0adfd9599275"
      },
      "execution_count": null,
      "outputs": [
        {
          "output_type": "execute_result",
          "data": {
            "text/plain": [
              "[[47.610416844749054, 0, 23, 67],\n",
              " [43.42540116647213, 0.047619047619047616, 0.15, 0.07228915662650602],\n",
              " [49.69434976906684, 0.03296703296703297, 0.25, 0.05825242718446602],\n",
              " [51.959310452079194,\n",
              "  0.11130465075770772,\n",
              "  0.5289735099337748,\n",
              "  0.1839113541516765],\n",
              " [49.40779793121193,\n",
              "  0.12296374146085129,\n",
              "  0.536697247706422,\n",
              "  0.20008550662676358],\n",
              " [52.83008854227135,\n",
              "  0.07118385991625428,\n",
              "  0.4087431693989071,\n",
              "  0.12125141838223374]]"
            ]
          },
          "metadata": {},
          "execution_count": 28
        }
      ]
    },
    {
      "cell_type": "code",
      "source": [
        "users_sim"
      ],
      "metadata": {
        "colab": {
          "base_uri": "https://localhost:8080/"
        },
        "id": "siCoaXZPAXAM",
        "outputId": "fdde9615-e62d-4f9b-f6bc-e840a2a3898b"
      },
      "execution_count": null,
      "outputs": [
        {
          "output_type": "execute_result",
          "data": {
            "text/plain": [
              "[[48.531602538491015, 0, 26, 68],\n",
              " [43.07964603911692,\n",
              "  0.047619047619047616,\n",
              "  0.13043478260869565,\n",
              "  0.06976744186046512],\n",
              " [51.196519298119085, 0.03296703296703297, 0.25, 0.05825242718446602],\n",
              " [52.25593042629144,\n",
              "  0.1075752334832238,\n",
              "  0.5329905741216795,\n",
              "  0.17901856382213266],\n",
              " [50.02016909223557,\n",
              "  0.12199791159067178,\n",
              "  0.5330798479087453,\n",
              "  0.1985554454043337],\n",
              " [53.6226816648983,\n",
              "  0.06560747663551401,\n",
              "  0.43333333333333335,\n",
              "  0.11396103896103896]]"
            ]
          },
          "metadata": {},
          "execution_count": 48
        }
      ]
    },
    {
      "cell_type": "code",
      "source": [],
      "metadata": {
        "id": "LzfMdgpjsn-P"
      },
      "execution_count": null,
      "outputs": []
    }
  ],
  "metadata": {
    "kernelspec": {
      "display_name": "Python 3",
      "language": "python",
      "name": "python3"
    },
    "language_info": {
      "codemirror_mode": {
        "name": "ipython",
        "version": 3
      },
      "file_extension": ".py",
      "mimetype": "text/x-python",
      "name": "python",
      "nbconvert_exporter": "python",
      "pygments_lexer": "ipython3",
      "version": "3.9.7 (tags/v3.9.7:1016ef3, Aug 30 2021, 20:19:38) [MSC v.1929 64 bit (AMD64)]"
    },
    "orig_nbformat": 4,
    "vscode": {
      "interpreter": {
        "hash": "8f8cf99212f81ad0c4765861267244807ee1c18364846cdce387b28994a977ba"
      }
    },
    "colab": {
      "provenance": [],
      "include_colab_link": true
    }
  },
  "nbformat": 4,
  "nbformat_minor": 0
}