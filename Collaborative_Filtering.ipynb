{
  "nbformat": 4,
  "nbformat_minor": 0,
  "metadata": {
    "colab": {
      "provenance": [],
      "authorship_tag": "ABX9TyPYPOUVmwTpyBrZZ3NbH4Fx",
      "include_colab_link": true
    },
    "kernelspec": {
      "name": "python3",
      "display_name": "Python 3"
    },
    "language_info": {
      "name": "python"
    }
  },
  "cells": [
    {
      "cell_type": "markdown",
      "metadata": {
        "id": "view-in-github",
        "colab_type": "text"
      },
      "source": [
        "<a href=\"https://colab.research.google.com/github/TunaInABottle/data_mining_2022/blob/main/Collaborative_Filtering.ipynb\" target=\"_parent\"><img src=\"https://colab.research.google.com/assets/colab-badge.svg\" alt=\"Open In Colab\"/></a>"
      ]
    },
    {
      "cell_type": "code",
      "execution_count": 1,
      "metadata": {
        "colab": {
          "base_uri": "https://localhost:8080/"
        },
        "id": "V0FFoMufEv5E",
        "outputId": "d585e00e-6a0e-47eb-a6ce-f64a7841b95b"
      },
      "outputs": [
        {
          "output_type": "stream",
          "name": "stdout",
          "text": [
            "Cloning into 'data_mining_2022'...\n",
            "remote: Enumerating objects: 108, done.\u001b[K\n",
            "remote: Counting objects: 100% (108/108), done.\u001b[K\n",
            "remote: Compressing objects: 100% (77/77), done.\u001b[K\n",
            "remote: Total 108 (delta 43), reused 82 (delta 25), pack-reused 0\u001b[K\n",
            "Receiving objects: 100% (108/108), 48.72 KiB | 8.12 MiB/s, done.\n",
            "Resolving deltas: 100% (43/43), done.\n"
          ]
        }
      ],
      "source": [
        "!git clone https://github.com/TunaInABottle/data_mining_2022.git"
      ]
    },
    {
      "cell_type": "code",
      "source": [
        "import pandas as pd \n",
        "import matplotlib.pyplot as plt\n",
        "import numpy as np"
      ],
      "metadata": {
        "id": "eaobSlR0Nk-7"
      },
      "execution_count": 2,
      "outputs": []
    },
    {
      "cell_type": "code",
      "source": [
        "!pip install turicreate"
      ],
      "metadata": {
        "colab": {
          "base_uri": "https://localhost:8080/"
        },
        "id": "crY7cOdgSdtX",
        "outputId": "3f874451-b3af-4e0f-a526-c9e2ca709be8"
      },
      "execution_count": 21,
      "outputs": [
        {
          "output_type": "stream",
          "name": "stdout",
          "text": [
            "Looking in indexes: https://pypi.org/simple, https://us-python.pkg.dev/colab-wheels/public/simple/\n",
            "Requirement already satisfied: turicreate in /usr/local/lib/python3.8/dist-packages (6.4.1)\n",
            "Requirement already satisfied: numpy in /usr/local/lib/python3.8/dist-packages (from turicreate) (1.21.6)\n",
            "Requirement already satisfied: prettytable==0.7.2 in /usr/local/lib/python3.8/dist-packages (from turicreate) (0.7.2)\n",
            "Requirement already satisfied: scipy>=1.1.0 in /usr/local/lib/python3.8/dist-packages (from turicreate) (1.7.3)\n",
            "Requirement already satisfied: pandas>=0.23.2 in /usr/local/lib/python3.8/dist-packages (from turicreate) (1.3.5)\n",
            "Requirement already satisfied: resampy==0.2.1 in /usr/local/lib/python3.8/dist-packages (from turicreate) (0.2.1)\n",
            "Requirement already satisfied: numba<0.51.0 in /usr/local/lib/python3.8/dist-packages (from turicreate) (0.50.1)\n",
            "Requirement already satisfied: six>=1.10.0 in /usr/local/lib/python3.8/dist-packages (from turicreate) (1.15.0)\n",
            "Requirement already satisfied: coremltools==4.0b3 in /usr/local/lib/python3.8/dist-packages (from turicreate) (4.0b3)\n",
            "Requirement already satisfied: pillow>=5.2.0 in /usr/local/lib/python3.8/dist-packages (from turicreate) (7.1.2)\n",
            "Requirement already satisfied: requests>=2.9.1 in /usr/local/lib/python3.8/dist-packages (from turicreate) (2.25.1)\n",
            "Requirement already satisfied: tensorflow>=2.0.0 in /usr/local/lib/python3.8/dist-packages (from turicreate) (2.9.2)\n",
            "Requirement already satisfied: decorator>=4.0.9 in /usr/local/lib/python3.8/dist-packages (from turicreate) (4.4.2)\n",
            "Requirement already satisfied: protobuf>=3.1.0 in /usr/local/lib/python3.8/dist-packages (from coremltools==4.0b3->turicreate) (3.19.6)\n",
            "Requirement already satisfied: tqdm in /usr/local/lib/python3.8/dist-packages (from coremltools==4.0b3->turicreate) (4.64.1)\n",
            "Requirement already satisfied: sympy in /usr/local/lib/python3.8/dist-packages (from coremltools==4.0b3->turicreate) (1.7.1)\n",
            "Requirement already satisfied: attrs in /usr/local/lib/python3.8/dist-packages (from coremltools==4.0b3->turicreate) (22.2.0)\n",
            "Requirement already satisfied: attr in /usr/local/lib/python3.8/dist-packages (from coremltools==4.0b3->turicreate) (0.3.2)\n",
            "Requirement already satisfied: llvmlite<0.34,>=0.33.0.dev0 in /usr/local/lib/python3.8/dist-packages (from numba<0.51.0->turicreate) (0.33.0)\n",
            "Requirement already satisfied: setuptools in /usr/local/lib/python3.8/dist-packages (from numba<0.51.0->turicreate) (57.4.0)\n",
            "Requirement already satisfied: pytz>=2017.3 in /usr/local/lib/python3.8/dist-packages (from pandas>=0.23.2->turicreate) (2022.7)\n",
            "Requirement already satisfied: python-dateutil>=2.7.3 in /usr/local/lib/python3.8/dist-packages (from pandas>=0.23.2->turicreate) (2.8.2)\n",
            "Requirement already satisfied: urllib3<1.27,>=1.21.1 in /usr/local/lib/python3.8/dist-packages (from requests>=2.9.1->turicreate) (1.24.3)\n",
            "Requirement already satisfied: chardet<5,>=3.0.2 in /usr/local/lib/python3.8/dist-packages (from requests>=2.9.1->turicreate) (4.0.0)\n",
            "Requirement already satisfied: certifi>=2017.4.17 in /usr/local/lib/python3.8/dist-packages (from requests>=2.9.1->turicreate) (2022.12.7)\n",
            "Requirement already satisfied: idna<3,>=2.5 in /usr/local/lib/python3.8/dist-packages (from requests>=2.9.1->turicreate) (2.10)\n",
            "Requirement already satisfied: grpcio<2.0,>=1.24.3 in /usr/local/lib/python3.8/dist-packages (from tensorflow>=2.0.0->turicreate) (1.51.1)\n",
            "Requirement already satisfied: tensorflow-io-gcs-filesystem>=0.23.1 in /usr/local/lib/python3.8/dist-packages (from tensorflow>=2.0.0->turicreate) (0.29.0)\n",
            "Requirement already satisfied: astunparse>=1.6.0 in /usr/local/lib/python3.8/dist-packages (from tensorflow>=2.0.0->turicreate) (1.6.3)\n",
            "Requirement already satisfied: google-pasta>=0.1.1 in /usr/local/lib/python3.8/dist-packages (from tensorflow>=2.0.0->turicreate) (0.2.0)\n",
            "Requirement already satisfied: keras<2.10.0,>=2.9.0rc0 in /usr/local/lib/python3.8/dist-packages (from tensorflow>=2.0.0->turicreate) (2.9.0)\n",
            "Requirement already satisfied: keras-preprocessing>=1.1.1 in /usr/local/lib/python3.8/dist-packages (from tensorflow>=2.0.0->turicreate) (1.1.2)\n",
            "Requirement already satisfied: libclang>=13.0.0 in /usr/local/lib/python3.8/dist-packages (from tensorflow>=2.0.0->turicreate) (15.0.6.1)\n",
            "Requirement already satisfied: flatbuffers<2,>=1.12 in /usr/local/lib/python3.8/dist-packages (from tensorflow>=2.0.0->turicreate) (1.12)\n",
            "Requirement already satisfied: h5py>=2.9.0 in /usr/local/lib/python3.8/dist-packages (from tensorflow>=2.0.0->turicreate) (3.1.0)\n",
            "Requirement already satisfied: termcolor>=1.1.0 in /usr/local/lib/python3.8/dist-packages (from tensorflow>=2.0.0->turicreate) (2.2.0)\n",
            "Requirement already satisfied: packaging in /usr/local/lib/python3.8/dist-packages (from tensorflow>=2.0.0->turicreate) (21.3)\n",
            "Requirement already satisfied: absl-py>=1.0.0 in /usr/local/lib/python3.8/dist-packages (from tensorflow>=2.0.0->turicreate) (1.3.0)\n",
            "Requirement already satisfied: tensorboard<2.10,>=2.9 in /usr/local/lib/python3.8/dist-packages (from tensorflow>=2.0.0->turicreate) (2.9.1)\n",
            "Requirement already satisfied: wrapt>=1.11.0 in /usr/local/lib/python3.8/dist-packages (from tensorflow>=2.0.0->turicreate) (1.14.1)\n",
            "Requirement already satisfied: tensorflow-estimator<2.10.0,>=2.9.0rc0 in /usr/local/lib/python3.8/dist-packages (from tensorflow>=2.0.0->turicreate) (2.9.0)\n",
            "Requirement already satisfied: typing-extensions>=3.6.6 in /usr/local/lib/python3.8/dist-packages (from tensorflow>=2.0.0->turicreate) (4.4.0)\n",
            "Requirement already satisfied: opt-einsum>=2.3.2 in /usr/local/lib/python3.8/dist-packages (from tensorflow>=2.0.0->turicreate) (3.3.0)\n",
            "Requirement already satisfied: gast<=0.4.0,>=0.2.1 in /usr/local/lib/python3.8/dist-packages (from tensorflow>=2.0.0->turicreate) (0.4.0)\n",
            "Requirement already satisfied: wheel<1.0,>=0.23.0 in /usr/local/lib/python3.8/dist-packages (from astunparse>=1.6.0->tensorflow>=2.0.0->turicreate) (0.38.4)\n",
            "Requirement already satisfied: google-auth-oauthlib<0.5,>=0.4.1 in /usr/local/lib/python3.8/dist-packages (from tensorboard<2.10,>=2.9->tensorflow>=2.0.0->turicreate) (0.4.6)\n",
            "Requirement already satisfied: tensorboard-plugin-wit>=1.6.0 in /usr/local/lib/python3.8/dist-packages (from tensorboard<2.10,>=2.9->tensorflow>=2.0.0->turicreate) (1.8.1)\n",
            "Requirement already satisfied: werkzeug>=1.0.1 in /usr/local/lib/python3.8/dist-packages (from tensorboard<2.10,>=2.9->tensorflow>=2.0.0->turicreate) (1.0.1)\n",
            "Requirement already satisfied: markdown>=2.6.8 in /usr/local/lib/python3.8/dist-packages (from tensorboard<2.10,>=2.9->tensorflow>=2.0.0->turicreate) (3.4.1)\n",
            "Requirement already satisfied: google-auth<3,>=1.6.3 in /usr/local/lib/python3.8/dist-packages (from tensorboard<2.10,>=2.9->tensorflow>=2.0.0->turicreate) (2.16.0)\n",
            "Requirement already satisfied: tensorboard-data-server<0.7.0,>=0.6.0 in /usr/local/lib/python3.8/dist-packages (from tensorboard<2.10,>=2.9->tensorflow>=2.0.0->turicreate) (0.6.1)\n",
            "Requirement already satisfied: pyparsing!=3.0.5,>=2.0.2 in /usr/local/lib/python3.8/dist-packages (from packaging->tensorflow>=2.0.0->turicreate) (3.0.9)\n",
            "Requirement already satisfied: mpmath>=0.19 in /usr/local/lib/python3.8/dist-packages (from sympy->coremltools==4.0b3->turicreate) (1.2.1)\n",
            "Requirement already satisfied: cachetools<6.0,>=2.0.0 in /usr/local/lib/python3.8/dist-packages (from google-auth<3,>=1.6.3->tensorboard<2.10,>=2.9->tensorflow>=2.0.0->turicreate) (5.2.1)\n",
            "Requirement already satisfied: pyasn1-modules>=0.2.1 in /usr/local/lib/python3.8/dist-packages (from google-auth<3,>=1.6.3->tensorboard<2.10,>=2.9->tensorflow>=2.0.0->turicreate) (0.2.8)\n",
            "Requirement already satisfied: rsa<5,>=3.1.4 in /usr/local/lib/python3.8/dist-packages (from google-auth<3,>=1.6.3->tensorboard<2.10,>=2.9->tensorflow>=2.0.0->turicreate) (4.9)\n",
            "Requirement already satisfied: requests-oauthlib>=0.7.0 in /usr/local/lib/python3.8/dist-packages (from google-auth-oauthlib<0.5,>=0.4.1->tensorboard<2.10,>=2.9->tensorflow>=2.0.0->turicreate) (1.3.1)\n",
            "Requirement already satisfied: importlib-metadata>=4.4 in /usr/local/lib/python3.8/dist-packages (from markdown>=2.6.8->tensorboard<2.10,>=2.9->tensorflow>=2.0.0->turicreate) (6.0.0)\n",
            "Requirement already satisfied: zipp>=0.5 in /usr/local/lib/python3.8/dist-packages (from importlib-metadata>=4.4->markdown>=2.6.8->tensorboard<2.10,>=2.9->tensorflow>=2.0.0->turicreate) (3.11.0)\n",
            "Requirement already satisfied: pyasn1<0.5.0,>=0.4.6 in /usr/local/lib/python3.8/dist-packages (from pyasn1-modules>=0.2.1->google-auth<3,>=1.6.3->tensorboard<2.10,>=2.9->tensorflow>=2.0.0->turicreate) (0.4.8)\n",
            "Requirement already satisfied: oauthlib>=3.0.0 in /usr/local/lib/python3.8/dist-packages (from requests-oauthlib>=0.7.0->google-auth-oauthlib<0.5,>=0.4.1->tensorboard<2.10,>=2.9->tensorflow>=2.0.0->turicreate) (3.2.2)\n"
          ]
        }
      ]
    },
    {
      "cell_type": "code",
      "source": [
        "from __future__ import print_function # to conform python 2.x print to python 3.x\n",
        "import turicreate\n",
        "import sys\n",
        "import os\n",
        "from scipy.sparse import csr_matrix\n",
        "from sklearn.preprocessing import OneHotEncoder, LabelEncoder\n",
        "\n",
        "%matplotlib inline"
      ],
      "metadata": {
        "id": "qTErdxUG5Alz"
      },
      "execution_count": 22,
      "outputs": []
    },
    {
      "cell_type": "code",
      "source": [
        "df1= turicreate.SFrame.read_csv(\"/content/data_mining_2022/file_gen/queries_content.csv\")"
      ],
      "metadata": {
        "colab": {
          "base_uri": "https://localhost:8080/",
          "height": 225
        },
        "id": "QUNPXUgIOQVq",
        "outputId": "40645b91-b576-47ab-a27b-22148613a39b"
      },
      "execution_count": 23,
      "outputs": [
        {
          "output_type": "display_data",
          "data": {
            "text/plain": [
              "Finished parsing file /content/data_mining_2022/file_gen/queries_content.csv"
            ],
            "text/html": [
              "<pre>Finished parsing file /content/data_mining_2022/file_gen/queries_content.csv</pre>"
            ]
          },
          "metadata": {}
        },
        {
          "output_type": "display_data",
          "data": {
            "text/plain": [
              "Parsing completed. Parsed 100 lines in 0.075486 secs."
            ],
            "text/html": [
              "<pre>Parsing completed. Parsed 100 lines in 0.075486 secs.</pre>"
            ]
          },
          "metadata": {}
        },
        {
          "output_type": "stream",
          "name": "stdout",
          "text": [
            "------------------------------------------------------\n",
            "Inferred types from first 100 line(s) of file as \n",
            "column_type_hints=[str,str,str,str,int]\n",
            "If parsing fails due to incorrect types, you can correct\n",
            "the inferred type list above and pass it to read_csv in\n",
            "the column_type_hints argument\n",
            "------------------------------------------------------\n"
          ]
        },
        {
          "output_type": "display_data",
          "data": {
            "text/plain": [
              "Read 100 lines. Lines per second: 3433.71"
            ],
            "text/html": [
              "<pre>Read 100 lines. Lines per second: 3433.71</pre>"
            ]
          },
          "metadata": {}
        },
        {
          "output_type": "display_data",
          "data": {
            "text/plain": [
              "Finished parsing file /content/data_mining_2022/file_gen/queries_content.csv"
            ],
            "text/html": [
              "<pre>Finished parsing file /content/data_mining_2022/file_gen/queries_content.csv</pre>"
            ]
          },
          "metadata": {}
        },
        {
          "output_type": "display_data",
          "data": {
            "text/plain": [
              "Parsing completed. Parsed 100 lines in 0.039613 secs."
            ],
            "text/html": [
              "<pre>Parsing completed. Parsed 100 lines in 0.039613 secs.</pre>"
            ]
          },
          "metadata": {}
        }
      ]
    },
    {
      "cell_type": "code",
      "source": [
        "df1"
      ],
      "metadata": {
        "colab": {
          "base_uri": "https://localhost:8080/",
          "height": 301
        },
        "id": "PtrpoJMPSwqB",
        "outputId": "cb361c45-1e94-41d2-9ff2-deea71fdf33e"
      },
      "execution_count": 24,
      "outputs": [
        {
          "output_type": "execute_result",
          "data": {
            "text/plain": [
              "Columns:\n",
              "\tSurname\tstr\n",
              "\tName\tstr\n",
              "\tCity\tstr\n",
              "\tProfession\tstr\n",
              "\tAge\tint\n",
              "\n",
              "Rows: 100\n",
              "\n",
              "Data:\n",
              "+----------+-----------+------------+-----------------------------+-----+\n",
              "| Surname  |    Name   |    City    |          Profession         | Age |\n",
              "+----------+-----------+------------+-----------------------------+-----+\n",
              "|  Smith   |  Abigail  | Amsterdam  |          accountant         |  5  |\n",
              "| Johnson  |    Adam   |   Athens   |            actor            |  6  |\n",
              "| Sullivan |  Wojchek  |  Auckland  |        web developer        |  99 |\n",
              "| Williams |   Aiden   |    Baku    |        acupuncturist        |  7  |\n",
              "| Simmons  |  Scarlett |  Bangkok   | public relations specialist |  86 |\n",
              "|  Jones   |  Adriana  | Barcelona  |        administrator        |  8  |\n",
              "| Griffin  |   Teddy   |  Beijing   |      software developer     |  92 |\n",
              "|  Brown   |  Ainsley  |  Belgrade  |   adult education teacher   |  9  |\n",
              "|  Davis   |    Alex   |   Berlin   |    advertising executive    |  10 |\n",
              "|  Garcia  | Alexander | Birmingham |      aerospace engineer     |  11 |\n",
              "+----------+-----------+------------+-----------------------------+-----+\n",
              "[100 rows x 5 columns]\n",
              "Note: Only the head of the SFrame is printed.\n",
              "You can use print_rows(num_rows=m, num_columns=n) to print more rows and columns."
            ],
            "text/html": [
              "<div style=\"max-height:1000px;max-width:1500px;overflow:auto;\"><table frame=\"box\" rules=\"cols\">\n",
              "    <tr>\n",
              "        <th style=\"padding-left: 1em; padding-right: 1em; text-align: center\">Surname</th>\n",
              "        <th style=\"padding-left: 1em; padding-right: 1em; text-align: center\">Name</th>\n",
              "        <th style=\"padding-left: 1em; padding-right: 1em; text-align: center\">City</th>\n",
              "        <th style=\"padding-left: 1em; padding-right: 1em; text-align: center\">Profession</th>\n",
              "        <th style=\"padding-left: 1em; padding-right: 1em; text-align: center\">Age</th>\n",
              "    </tr>\n",
              "    <tr>\n",
              "        <td style=\"padding-left: 1em; padding-right: 1em; text-align: center; vertical-align: top\">Smith</td>\n",
              "        <td style=\"padding-left: 1em; padding-right: 1em; text-align: center; vertical-align: top\">Abigail</td>\n",
              "        <td style=\"padding-left: 1em; padding-right: 1em; text-align: center; vertical-align: top\">Amsterdam</td>\n",
              "        <td style=\"padding-left: 1em; padding-right: 1em; text-align: center; vertical-align: top\">accountant</td>\n",
              "        <td style=\"padding-left: 1em; padding-right: 1em; text-align: center; vertical-align: top\">5</td>\n",
              "    </tr>\n",
              "    <tr>\n",
              "        <td style=\"padding-left: 1em; padding-right: 1em; text-align: center; vertical-align: top\">Johnson</td>\n",
              "        <td style=\"padding-left: 1em; padding-right: 1em; text-align: center; vertical-align: top\">Adam</td>\n",
              "        <td style=\"padding-left: 1em; padding-right: 1em; text-align: center; vertical-align: top\">Athens</td>\n",
              "        <td style=\"padding-left: 1em; padding-right: 1em; text-align: center; vertical-align: top\">actor</td>\n",
              "        <td style=\"padding-left: 1em; padding-right: 1em; text-align: center; vertical-align: top\">6</td>\n",
              "    </tr>\n",
              "    <tr>\n",
              "        <td style=\"padding-left: 1em; padding-right: 1em; text-align: center; vertical-align: top\">Sullivan</td>\n",
              "        <td style=\"padding-left: 1em; padding-right: 1em; text-align: center; vertical-align: top\">Wojchek</td>\n",
              "        <td style=\"padding-left: 1em; padding-right: 1em; text-align: center; vertical-align: top\">Auckland</td>\n",
              "        <td style=\"padding-left: 1em; padding-right: 1em; text-align: center; vertical-align: top\">web developer</td>\n",
              "        <td style=\"padding-left: 1em; padding-right: 1em; text-align: center; vertical-align: top\">99</td>\n",
              "    </tr>\n",
              "    <tr>\n",
              "        <td style=\"padding-left: 1em; padding-right: 1em; text-align: center; vertical-align: top\">Williams</td>\n",
              "        <td style=\"padding-left: 1em; padding-right: 1em; text-align: center; vertical-align: top\">Aiden</td>\n",
              "        <td style=\"padding-left: 1em; padding-right: 1em; text-align: center; vertical-align: top\">Baku</td>\n",
              "        <td style=\"padding-left: 1em; padding-right: 1em; text-align: center; vertical-align: top\">acupuncturist</td>\n",
              "        <td style=\"padding-left: 1em; padding-right: 1em; text-align: center; vertical-align: top\">7</td>\n",
              "    </tr>\n",
              "    <tr>\n",
              "        <td style=\"padding-left: 1em; padding-right: 1em; text-align: center; vertical-align: top\">Simmons</td>\n",
              "        <td style=\"padding-left: 1em; padding-right: 1em; text-align: center; vertical-align: top\">Scarlett</td>\n",
              "        <td style=\"padding-left: 1em; padding-right: 1em; text-align: center; vertical-align: top\">Bangkok</td>\n",
              "        <td style=\"padding-left: 1em; padding-right: 1em; text-align: center; vertical-align: top\">public relations<br>specialist ...</td>\n",
              "        <td style=\"padding-left: 1em; padding-right: 1em; text-align: center; vertical-align: top\">86</td>\n",
              "    </tr>\n",
              "    <tr>\n",
              "        <td style=\"padding-left: 1em; padding-right: 1em; text-align: center; vertical-align: top\">Jones</td>\n",
              "        <td style=\"padding-left: 1em; padding-right: 1em; text-align: center; vertical-align: top\">Adriana</td>\n",
              "        <td style=\"padding-left: 1em; padding-right: 1em; text-align: center; vertical-align: top\">Barcelona</td>\n",
              "        <td style=\"padding-left: 1em; padding-right: 1em; text-align: center; vertical-align: top\">administrator</td>\n",
              "        <td style=\"padding-left: 1em; padding-right: 1em; text-align: center; vertical-align: top\">8</td>\n",
              "    </tr>\n",
              "    <tr>\n",
              "        <td style=\"padding-left: 1em; padding-right: 1em; text-align: center; vertical-align: top\">Griffin</td>\n",
              "        <td style=\"padding-left: 1em; padding-right: 1em; text-align: center; vertical-align: top\">Teddy</td>\n",
              "        <td style=\"padding-left: 1em; padding-right: 1em; text-align: center; vertical-align: top\">Beijing</td>\n",
              "        <td style=\"padding-left: 1em; padding-right: 1em; text-align: center; vertical-align: top\">software developer</td>\n",
              "        <td style=\"padding-left: 1em; padding-right: 1em; text-align: center; vertical-align: top\">92</td>\n",
              "    </tr>\n",
              "    <tr>\n",
              "        <td style=\"padding-left: 1em; padding-right: 1em; text-align: center; vertical-align: top\">Brown</td>\n",
              "        <td style=\"padding-left: 1em; padding-right: 1em; text-align: center; vertical-align: top\">Ainsley</td>\n",
              "        <td style=\"padding-left: 1em; padding-right: 1em; text-align: center; vertical-align: top\">Belgrade</td>\n",
              "        <td style=\"padding-left: 1em; padding-right: 1em; text-align: center; vertical-align: top\">adult education teacher</td>\n",
              "        <td style=\"padding-left: 1em; padding-right: 1em; text-align: center; vertical-align: top\">9</td>\n",
              "    </tr>\n",
              "    <tr>\n",
              "        <td style=\"padding-left: 1em; padding-right: 1em; text-align: center; vertical-align: top\">Davis</td>\n",
              "        <td style=\"padding-left: 1em; padding-right: 1em; text-align: center; vertical-align: top\">Alex</td>\n",
              "        <td style=\"padding-left: 1em; padding-right: 1em; text-align: center; vertical-align: top\">Berlin</td>\n",
              "        <td style=\"padding-left: 1em; padding-right: 1em; text-align: center; vertical-align: top\">advertising executive</td>\n",
              "        <td style=\"padding-left: 1em; padding-right: 1em; text-align: center; vertical-align: top\">10</td>\n",
              "    </tr>\n",
              "    <tr>\n",
              "        <td style=\"padding-left: 1em; padding-right: 1em; text-align: center; vertical-align: top\">Garcia</td>\n",
              "        <td style=\"padding-left: 1em; padding-right: 1em; text-align: center; vertical-align: top\">Alexander</td>\n",
              "        <td style=\"padding-left: 1em; padding-right: 1em; text-align: center; vertical-align: top\">Birmingham</td>\n",
              "        <td style=\"padding-left: 1em; padding-right: 1em; text-align: center; vertical-align: top\">aerospace engineer</td>\n",
              "        <td style=\"padding-left: 1em; padding-right: 1em; text-align: center; vertical-align: top\">11</td>\n",
              "    </tr>\n",
              "</table>\n",
              "[100 rows x 5 columns]<br/>Note: Only the head of the SFrame is printed.<br/>You can use print_rows(num_rows=m, num_columns=n) to print more rows and columns.\n",
              "</div>"
            ]
          },
          "metadata": {},
          "execution_count": 24
        }
      ]
    },
    {
      "cell_type": "markdown",
      "source": [
        "TF-IDF"
      ],
      "metadata": {
        "id": "eBQdXEJKX9gE"
      }
    },
    {
      "cell_type": "code",
      "source": [
        "df1['tf_idf'] = turicreate.text_analytics.tf_idf(df1['Profession'])"
      ],
      "metadata": {
        "id": "ffRjjP0LOebV"
      },
      "execution_count": 25,
      "outputs": []
    },
    {
      "cell_type": "code",
      "source": [
        "df1['tf_idf']"
      ],
      "metadata": {
        "colab": {
          "base_uri": "https://localhost:8080/"
        },
        "id": "5E7TmRnpjbBi",
        "outputId": "58c8ad02-f073-4341-de51-4a53157d4e5e"
      },
      "execution_count": 26,
      "outputs": [
        {
          "output_type": "execute_result",
          "data": {
            "text/plain": [
              "dtype: dict\n",
              "Rows: 100\n",
              "[{'accountant': 4.605170185988092}, {'actor': 4.605170185988092}, {'developer': 3.912023005428146, 'web': 4.605170185988092}, {'acupuncturist': 4.605170185988092}, {'relations': 4.605170185988092, 'specialist': 3.912023005428146, 'public': 4.605170185988092}, {'administrator': 4.605170185988092}, {'developer': 3.912023005428146, 'software': 4.605170185988092}, {'education': 4.605170185988092, 'teacher': 3.912023005428146, 'adult': 4.605170185988092}, {'executive': 4.605170185988092, 'advertising': 4.605170185988092}, {'engineer': 2.302585092994046, 'aerospace': 4.605170185988092}, {'engineer': 2.302585092994046, 'agricultural': 3.506557897319982}, {'scientist': 2.995732273553991, 'agricultural': 3.506557897319982}, {'technologist': 3.2188758248682006, 'agricultural': 3.506557897319982}, {'controller': 4.605170185988092, 'traffic': 4.605170185988092, 'air': 4.605170185988092}, {'mechanic': 4.605170185988092, 'aircraft': 4.605170185988092}, {'technologist': 3.2188758248682006, 'laboratory': 4.605170185988092, 'medical': 3.912023005428146}, {'pilot': 3.912023005428146, 'airline': 4.605170185988092}, {'physiotherapist': 4.605170185988092}, {'therapist': 3.2188758248682006, 'occupational': 4.605170185988092}, {'sociologist': 4.605170185988092}, {'trainer': 3.912023005428146, 'animal': 4.605170185988092}, {'housewife': 4.605170185988092}, {'dealer': 4.605170185988092, 'antique': 4.605170185988092}, {'archaeologist': 4.605170185988092}, {'architect': 4.605170185988092}, {'astronaut': 4.605170185988092}, {'artist': 4.605170185988092}, {'astronomer': 4.605170185988092}, {'prisoner': 4.605170185988092}, {'trainer': 3.912023005428146, 'athletic': 4.605170185988092}, {'audiologist': 4.605170185988092}, {'engineer': 2.302585092994046, 'automotive': 4.605170185988092}, {'manager': 3.506557897319982, 'aviation': 4.605170185988092}, {'banker': 4.605170185988092}, {'baker': 4.605170185988092}, {'optometrist': 4.605170185988092}, {'scientist': 2.995732273553991, 'data': 4.605170185988092}, {'barber': 4.605170185988092}, {'midwife': 4.605170185988092}, {'beautician': 4.605170185988092}, {'psychologist': 4.605170185988092}, {'nurse': 3.912023005428146}, {'engineer': 2.302585092994046, 'biomedical': 3.912023005428146}, {'scientist': 2.995732273553991, 'biomedical': 3.912023005428146}, {'bookkeeper': 4.605170185988092}, {'worker': 4.605170185988092, 'social': 4.605170185988092}, {'therapist': 3.2188758248682006, 'speech': 4.605170185988092}, {'manager': 3.506557897319982, 'business': 4.605170185988092}, {'botanist': 4.605170185988092}, {'carpenter': 4.605170185988092}, {'chiropractor': 4.605170185988092}, {'engineer': 2.302585092994046, 'civil': 4.605170185988092}, {'dentist': 4.605170185988092}, {'planner': 3.506557897319982}, {'veterinarian': 4.605170185988092}, {'dietitian': 4.605170185988092}, {'doctor': 4.605170185988092}, {'statistician': 4.605170185988092}, {'electrician': 4.605170185988092}, {'pilot': 3.912023005428146}, {'engineer': 2.302585092994046, 'electronics': 4.605170185988092}, {'plumber': 4.605170185988092}, {'engineer': 2.302585092994046}, {'entrepreneur': 4.605170185988092}, {'engineer': 2.302585092994046, 'environmental': 3.912023005428146}, {'scientist': 2.995732273553991, 'environmental': 3.912023005428146}, {'planner': 3.506557897319982, 'event': 4.605170185988092}, {'meteorologist': 4.605170185988092}, {'analyst': 4.605170185988092, 'financial': 3.506557897319982}, {'planner': 3.506557897319982, 'financial': 3.506557897319982}, {'officer': 4.605170185988092, 'police': 4.605170185988092}, {'fighter': 4.605170185988092, 'fire': 4.605170185988092}, {'manager': 3.506557897319982, 'financial': 3.506557897319982}, {'technologist': 3.2188758248682006}, {'therapist': 3.2188758248682006}, {'geologist': 4.605170185988092}, {'agent': 4.605170185988092, 'estate': 4.605170185988092, 'real': 4.605170185988092}, {'teacher': 3.912023005428146}, {'representative': 4.605170185988092, 'sales': 4.605170185988092}, {'hairstylist': 4.605170185988092}, {'historian': 4.605170185988092}, {'homeopath': 4.605170185988092}, {'designer': 3.912023005428146, 'industrial': 3.912023005428146}, {'scientist': 2.995732273553991, 'political': 4.605170185988092}, {'engineer': 2.302585092994046, 'industrial': 3.912023005428146}, {'paleontologist': 4.605170185988092}, {'designer': 3.912023005428146, 'interior': 4.605170185988092}, {'journalist': 4.605170185988092}, {'judge': 4.605170185988092}, {'technologist': 3.2188758248682006, 'medical': 3.912023005428146}, {'nurse': 3.912023005428146, 'registered': 4.605170185988092}, {'pharmacist': 4.605170185988092}, {'lawyer': 4.605170185988092}, {'librarian': 4.605170185988092}, {'consultant': 4.605170185988092, 'management': 4.605170185988092}, {'writer': 4.605170185988092}, {'researcher': 4.605170185988092, 'market': 4.605170185988092}, {'specialist': 3.912023005428146, 'marketing': 4.605170185988092}, {'therapist': 3.2188758248682006, 'massage': 4.605170185988092}, {'engineer': 2.302585092994046, 'mechanical': 4.605170185988092}]"
            ]
          },
          "metadata": {},
          "execution_count": 26
        }
      ]
    },
    {
      "cell_type": "code",
      "source": [
        "def sframe_to_scipy(x, column_name):\n",
        "    '''\n",
        "    Convert a dictionary column of an SFrame into a sparse matrix format where\n",
        "    each (row_id, column_id, value) triple corresponds to the value of\n",
        "    x[row_id][column_id], where column_id is a key in the dictionary.\n",
        "       \n",
        "    Example\n",
        "    >>> sparse_matrix, map_key_to_index = sframe_to_scipy(sframe, column_name)\n",
        "    '''\n",
        "    assert type(x[column_name][0]) == dict, \\\n",
        "        'The chosen column must be dict type, representing sparse data.'\n",
        "    \n",
        "    # 1. Add a row number (id)\n",
        "    x = x.add_row_number()\n",
        "\n",
        "    # 2. Stack will transform x to have a row for each unique (row, key) pair.\n",
        "    x = x.stack(column_name, ['feature', 'value'])\n",
        "\n",
        "    # Map feature words to integers \n",
        "    unique_words = sorted(x['feature'].unique())\n",
        "    mapping = {word:i for i, word in enumerate(unique_words)}\n",
        "    x['feature_id'] = x['feature'].apply(lambda x: mapping[x])\n",
        "\n",
        "    # Create numpy arrays that contain the data for the sparse matrix.\n",
        "    row_id = np.array(x['id'])\n",
        "    col_id = np.array(x['feature_id'])\n",
        "    data = np.array(x['value'])\n",
        "    \n",
        "    width = x['id'].max() + 1\n",
        "    height = x['feature_id'].max() + 1\n",
        "    \n",
        "    # Create a sparse matrix.\n",
        "    mat = csr_matrix((data, (row_id, col_id)), shape=(width, height))\n",
        "    return mat, mapping"
      ],
      "metadata": {
        "id": "KvDbuR34S0Q2"
      },
      "execution_count": 27,
      "outputs": []
    },
    {
      "cell_type": "code",
      "source": [
        "tf_idf, map_index_to_word = sframe_to_scipy(df1, 'tf_idf')"
      ],
      "metadata": {
        "id": "oTSd_bnzeiJ1"
      },
      "execution_count": 28,
      "outputs": []
    },
    {
      "cell_type": "code",
      "source": [
        "tf_idf.shape"
      ],
      "metadata": {
        "colab": {
          "base_uri": "https://localhost:8080/"
        },
        "id": "pLYw4lirDGBT",
        "outputId": "355ef2c0-4b4a-419f-c9e0-62ac40d2ac86"
      },
      "execution_count": 29,
      "outputs": [
        {
          "output_type": "execute_result",
          "data": {
            "text/plain": [
              "(100, 115)"
            ]
          },
          "metadata": {},
          "execution_count": 29
        }
      ]
    },
    {
      "cell_type": "code",
      "source": [
        "from sklearn.preprocessing import normalize\n",
        "tf_idf = normalize(tf_idf)"
      ],
      "metadata": {
        "id": "DZvrOKdCES20"
      },
      "execution_count": 30,
      "outputs": []
    },
    {
      "cell_type": "markdown",
      "source": [
        "<h4>Here we will work with the Euclidean distance (normalized, it will be equivalent to the cosine distance). <br>\n",
        "In the data cleaning part, we want to transform the <strong> City</strong> and <strong> Profession </strong> columns into numerical data, to be useful for the similarity measure, for this we need two datasets: <br>\n",
        "<ul>\n",
        "<li>A dataset of culturally similar cities (because people from same cultures tend to have similar tastes, behaviors...) </li>\n",
        "<li>A dataset of similar occupations (we can transform the Profession column into categorical data (science, art, law), then into numerical data) </li>\n",
        "</ul>\n",
        "\n"
      ],
      "metadata": {
        "id": "T_7bGF28lI20"
      }
    },
    {
      "cell_type": "markdown",
      "source": [
        "<h4>For the similarity measurement, two options are available: <br>\n",
        "<ul>\n",
        "<li>We can have a symmetric square matrix S of size n²=length(df)², indication the similarity between each two queries. <br>\n",
        "But, calculating the S matrix will be computationally costly, at best complexity of O(n²) </li>\n",
        "<li>Clustering  </li>\n",
        "</h4>"
      ],
      "metadata": {
        "id": "GS5ZV8veqy1G"
      }
    },
    {
      "cell_type": "code",
      "source": [
        "df= pd.read_csv(\"/content/data_mining_2022/file_gen/queries_content.csv\")"
      ],
      "metadata": {
        "id": "k3_z35EbTTN2"
      },
      "execution_count": 3,
      "outputs": []
    },
    {
      "cell_type": "code",
      "source": [
        "df"
      ],
      "metadata": {
        "colab": {
          "base_uri": "https://localhost:8080/",
          "height": 423
        },
        "id": "joy_Gibrlt3a",
        "outputId": "c2ffdcee-3a85-4cf4-be27-a0c983ff1bf2"
      },
      "execution_count": 4,
      "outputs": [
        {
          "output_type": "execute_result",
          "data": {
            "text/plain": [
              "     Surname       Name        City                   Profession  Age\n",
              "0      Smith    Abigail   Amsterdam                   accountant    5\n",
              "1    Johnson       Adam      Athens                        actor    6\n",
              "2   Sullivan    Wojchek    Auckland                web developer   99\n",
              "3   Williams      Aiden        Baku                acupuncturist    7\n",
              "4    Simmons   Scarlett     Bangkok  public relations specialist   86\n",
              "..       ...        ...         ...                          ...  ...\n",
              "95   Wallace        Kek  Wellington                       writer  100\n",
              "96    Brooks  Elizabeth     Wroclaw            market researcher   67\n",
              "97     Kelly       Ella     Yerevan         marketing specialist   68\n",
              "98   Sanders      Emily      Zagreb            massage therapist   69\n",
              "99     Price       Evan      Zurich          mechanical engineer   70\n",
              "\n",
              "[100 rows x 5 columns]"
            ],
            "text/html": [
              "\n",
              "  <div id=\"df-ab7cd87c-c9d8-46a9-8ac0-8b5280873eb8\">\n",
              "    <div class=\"colab-df-container\">\n",
              "      <div>\n",
              "<style scoped>\n",
              "    .dataframe tbody tr th:only-of-type {\n",
              "        vertical-align: middle;\n",
              "    }\n",
              "\n",
              "    .dataframe tbody tr th {\n",
              "        vertical-align: top;\n",
              "    }\n",
              "\n",
              "    .dataframe thead th {\n",
              "        text-align: right;\n",
              "    }\n",
              "</style>\n",
              "<table border=\"1\" class=\"dataframe\">\n",
              "  <thead>\n",
              "    <tr style=\"text-align: right;\">\n",
              "      <th></th>\n",
              "      <th>Surname</th>\n",
              "      <th>Name</th>\n",
              "      <th>City</th>\n",
              "      <th>Profession</th>\n",
              "      <th>Age</th>\n",
              "    </tr>\n",
              "  </thead>\n",
              "  <tbody>\n",
              "    <tr>\n",
              "      <th>0</th>\n",
              "      <td>Smith</td>\n",
              "      <td>Abigail</td>\n",
              "      <td>Amsterdam</td>\n",
              "      <td>accountant</td>\n",
              "      <td>5</td>\n",
              "    </tr>\n",
              "    <tr>\n",
              "      <th>1</th>\n",
              "      <td>Johnson</td>\n",
              "      <td>Adam</td>\n",
              "      <td>Athens</td>\n",
              "      <td>actor</td>\n",
              "      <td>6</td>\n",
              "    </tr>\n",
              "    <tr>\n",
              "      <th>2</th>\n",
              "      <td>Sullivan</td>\n",
              "      <td>Wojchek</td>\n",
              "      <td>Auckland</td>\n",
              "      <td>web developer</td>\n",
              "      <td>99</td>\n",
              "    </tr>\n",
              "    <tr>\n",
              "      <th>3</th>\n",
              "      <td>Williams</td>\n",
              "      <td>Aiden</td>\n",
              "      <td>Baku</td>\n",
              "      <td>acupuncturist</td>\n",
              "      <td>7</td>\n",
              "    </tr>\n",
              "    <tr>\n",
              "      <th>4</th>\n",
              "      <td>Simmons</td>\n",
              "      <td>Scarlett</td>\n",
              "      <td>Bangkok</td>\n",
              "      <td>public relations specialist</td>\n",
              "      <td>86</td>\n",
              "    </tr>\n",
              "    <tr>\n",
              "      <th>...</th>\n",
              "      <td>...</td>\n",
              "      <td>...</td>\n",
              "      <td>...</td>\n",
              "      <td>...</td>\n",
              "      <td>...</td>\n",
              "    </tr>\n",
              "    <tr>\n",
              "      <th>95</th>\n",
              "      <td>Wallace</td>\n",
              "      <td>Kek</td>\n",
              "      <td>Wellington</td>\n",
              "      <td>writer</td>\n",
              "      <td>100</td>\n",
              "    </tr>\n",
              "    <tr>\n",
              "      <th>96</th>\n",
              "      <td>Brooks</td>\n",
              "      <td>Elizabeth</td>\n",
              "      <td>Wroclaw</td>\n",
              "      <td>market researcher</td>\n",
              "      <td>67</td>\n",
              "    </tr>\n",
              "    <tr>\n",
              "      <th>97</th>\n",
              "      <td>Kelly</td>\n",
              "      <td>Ella</td>\n",
              "      <td>Yerevan</td>\n",
              "      <td>marketing specialist</td>\n",
              "      <td>68</td>\n",
              "    </tr>\n",
              "    <tr>\n",
              "      <th>98</th>\n",
              "      <td>Sanders</td>\n",
              "      <td>Emily</td>\n",
              "      <td>Zagreb</td>\n",
              "      <td>massage therapist</td>\n",
              "      <td>69</td>\n",
              "    </tr>\n",
              "    <tr>\n",
              "      <th>99</th>\n",
              "      <td>Price</td>\n",
              "      <td>Evan</td>\n",
              "      <td>Zurich</td>\n",
              "      <td>mechanical engineer</td>\n",
              "      <td>70</td>\n",
              "    </tr>\n",
              "  </tbody>\n",
              "</table>\n",
              "<p>100 rows × 5 columns</p>\n",
              "</div>\n",
              "      <button class=\"colab-df-convert\" onclick=\"convertToInteractive('df-ab7cd87c-c9d8-46a9-8ac0-8b5280873eb8')\"\n",
              "              title=\"Convert this dataframe to an interactive table.\"\n",
              "              style=\"display:none;\">\n",
              "        \n",
              "  <svg xmlns=\"http://www.w3.org/2000/svg\" height=\"24px\"viewBox=\"0 0 24 24\"\n",
              "       width=\"24px\">\n",
              "    <path d=\"M0 0h24v24H0V0z\" fill=\"none\"/>\n",
              "    <path d=\"M18.56 5.44l.94 2.06.94-2.06 2.06-.94-2.06-.94-.94-2.06-.94 2.06-2.06.94zm-11 1L8.5 8.5l.94-2.06 2.06-.94-2.06-.94L8.5 2.5l-.94 2.06-2.06.94zm10 10l.94 2.06.94-2.06 2.06-.94-2.06-.94-.94-2.06-.94 2.06-2.06.94z\"/><path d=\"M17.41 7.96l-1.37-1.37c-.4-.4-.92-.59-1.43-.59-.52 0-1.04.2-1.43.59L10.3 9.45l-7.72 7.72c-.78.78-.78 2.05 0 2.83L4 21.41c.39.39.9.59 1.41.59.51 0 1.02-.2 1.41-.59l7.78-7.78 2.81-2.81c.8-.78.8-2.07 0-2.86zM5.41 20L4 18.59l7.72-7.72 1.47 1.35L5.41 20z\"/>\n",
              "  </svg>\n",
              "      </button>\n",
              "      \n",
              "  <style>\n",
              "    .colab-df-container {\n",
              "      display:flex;\n",
              "      flex-wrap:wrap;\n",
              "      gap: 12px;\n",
              "    }\n",
              "\n",
              "    .colab-df-convert {\n",
              "      background-color: #E8F0FE;\n",
              "      border: none;\n",
              "      border-radius: 50%;\n",
              "      cursor: pointer;\n",
              "      display: none;\n",
              "      fill: #1967D2;\n",
              "      height: 32px;\n",
              "      padding: 0 0 0 0;\n",
              "      width: 32px;\n",
              "    }\n",
              "\n",
              "    .colab-df-convert:hover {\n",
              "      background-color: #E2EBFA;\n",
              "      box-shadow: 0px 1px 2px rgba(60, 64, 67, 0.3), 0px 1px 3px 1px rgba(60, 64, 67, 0.15);\n",
              "      fill: #174EA6;\n",
              "    }\n",
              "\n",
              "    [theme=dark] .colab-df-convert {\n",
              "      background-color: #3B4455;\n",
              "      fill: #D2E3FC;\n",
              "    }\n",
              "\n",
              "    [theme=dark] .colab-df-convert:hover {\n",
              "      background-color: #434B5C;\n",
              "      box-shadow: 0px 1px 3px 1px rgba(0, 0, 0, 0.15);\n",
              "      filter: drop-shadow(0px 1px 2px rgba(0, 0, 0, 0.3));\n",
              "      fill: #FFFFFF;\n",
              "    }\n",
              "  </style>\n",
              "\n",
              "      <script>\n",
              "        const buttonEl =\n",
              "          document.querySelector('#df-ab7cd87c-c9d8-46a9-8ac0-8b5280873eb8 button.colab-df-convert');\n",
              "        buttonEl.style.display =\n",
              "          google.colab.kernel.accessAllowed ? 'block' : 'none';\n",
              "\n",
              "        async function convertToInteractive(key) {\n",
              "          const element = document.querySelector('#df-ab7cd87c-c9d8-46a9-8ac0-8b5280873eb8');\n",
              "          const dataTable =\n",
              "            await google.colab.kernel.invokeFunction('convertToInteractive',\n",
              "                                                     [key], {});\n",
              "          if (!dataTable) return;\n",
              "\n",
              "          const docLinkHtml = 'Like what you see? Visit the ' +\n",
              "            '<a target=\"_blank\" href=https://colab.research.google.com/notebooks/data_table.ipynb>data table notebook</a>'\n",
              "            + ' to learn more about interactive tables.';\n",
              "          element.innerHTML = '';\n",
              "          dataTable['output_type'] = 'display_data';\n",
              "          await google.colab.output.renderOutput(dataTable, element);\n",
              "          const docLink = document.createElement('div');\n",
              "          docLink.innerHTML = docLinkHtml;\n",
              "          element.appendChild(docLink);\n",
              "        }\n",
              "      </script>\n",
              "    </div>\n",
              "  </div>\n",
              "  "
            ]
          },
          "metadata": {},
          "execution_count": 4
        }
      ]
    },
    {
      "cell_type": "markdown",
      "source": [
        "<h4>For now, we will only work with the <strong>Age </strong> column, the rest of the work will remain the same since we should only change the formula for the Euclidean distance.\n",
        "</h4>"
      ],
      "metadata": {
        "id": "iEigXxs4p-v-"
      }
    },
    {
      "cell_type": "markdown",
      "source": [
        "<h2> S Matrix\n",
        "</h2>"
      ],
      "metadata": {
        "id": "0y2GWVjPs6S_"
      }
    },
    {
      "cell_type": "code",
      "source": [
        "#the S matrix will contain distances of each query to the other queries\n",
        "#then we normalize rows of the S matrix\n",
        "#When people talk about generations, they're referring to all those born within roughly a 20-year period\n",
        "#So we will set 20 as a threshold to similarity \n",
        "\n",
        "def S_Matrix (df, n): \n",
        "  #n: index of the column \"Age\"\n",
        "  S=np.zeros(df.shape[0]**2).reshape(df.shape[0], df.shape[0])\n",
        "  for i in range (df.shape[0]):\n",
        "    S[i,i]=100\n",
        "    for j in range (i+1,df.shape[0]):\n",
        "      if (df.iloc[i][n] != 'Null') and (df.iloc[j][n] != 'Null') :\n",
        "        S[i,j]=abs(df.iloc[i][n] - df.iloc[j][n])\n",
        "        S[j,i]=S[i,j]\n",
        "      else :\n",
        "        S[i,j]=100\n",
        "        S[j,i]=100\n",
        "  return (S)\n",
        "        \n",
        "\"\"\" \n",
        "  a=S.sum(1)   #we will use these values, to normalize the value 20 (threshold) for each query, \n",
        "              #and we will put it in S[i,i]\n",
        "\n",
        "  from sklearn.preprocessing import normalize\n",
        "  S=normalize(S, axis=1, norm='l1')\n",
        "  for i in range (S.shape[0]):\n",
        "    S[i,i]=20/a[i] \n",
        "\"\"\""
      ],
      "metadata": {
        "id": "sCLhg3Pa5f7f",
        "colab": {
          "base_uri": "https://localhost:8080/",
          "height": 70
        },
        "outputId": "4bbd279b-e63e-4783-e5f9-718f14c1603f"
      },
      "execution_count": 118,
      "outputs": [
        {
          "output_type": "execute_result",
          "data": {
            "text/plain": [
              "\" \\n  a=S.sum(1)   #we will use these values, to normalize the value 20 (threshold) for each query, \\n              #and we will put it in S[i,i]\\n\\n  from sklearn.preprocessing import normalize\\n  S=normalize(S, axis=1, norm='l1')\\n  for i in range (S.shape[0]):\\n    S[i,i]=20/a[i] \\n\""
            ],
            "application/vnd.google.colaboratory.intrinsic+json": {
              "type": "string"
            }
          },
          "metadata": {},
          "execution_count": 118
        }
      ]
    },
    {
      "cell_type": "code",
      "source": [
        "from numpy.lib import row_stack\n",
        "#we will add a new column to df, \"Similar_Queries\"\n",
        "#which will contain a matrix of the most similar queries to each query, and the similarity values\n",
        "#These values will be normalized, and will be used as weights when calculating the missing ratings\n",
        "\n",
        "def similar(S, df) :\n",
        "  a=[]\n",
        "  for i in range (S.shape[0]):\n",
        "    b=[]\n",
        "    for j in range (S.shape[0]):\n",
        "      if S[i,j]<20 :\n",
        "        b.append([j,S[i,j]])\n",
        "    a.append(b)\n",
        "  df['Similar_Queries']=a\n",
        "\n",
        "  df['Similar_Queries']=df['Similar_Queries'].apply(lambda x: np.array(x).reshape(len(x),2), 1)\n",
        "\n",
        "  for i in range (df.shape[0]):\n",
        "    if (len(df['Similar_Queries'][i][:,1].reshape(-1, 1))!=0):\n",
        "      df['Similar_Queries'][i][:,1]=normalize(df['Similar_Queries'][i][:,1].reshape(-1, 1), axis=0, norm='l1').reshape(1,-1)\n",
        "  \n",
        "  return (df)"
      ],
      "metadata": {
        "id": "fty6TQ4zZAKN"
      },
      "execution_count": 133,
      "outputs": []
    },
    {
      "cell_type": "code",
      "source": [
        "#for a query that we want to rate, for a random user\n",
        "#Similar queries that are not rated "
      ],
      "metadata": {
        "id": "MtOrLH4GqItH"
      },
      "execution_count": 205,
      "outputs": []
    },
    {
      "cell_type": "markdown",
      "source": [
        "<h4>Transform the Queries definition into a table, similar to the query content table \n",
        "</h4>"
      ],
      "metadata": {
        "id": "Dkq5G0GRZHMS"
      }
    },
    {
      "cell_type": "code",
      "source": [
        "df2= pd.read_csv(\"/content/data_mining_2022/data/size_30/queries.csv\")"
      ],
      "metadata": {
        "id": "BVZ7NfsP4-KS"
      },
      "execution_count": 120,
      "outputs": []
    },
    {
      "cell_type": "code",
      "source": [
        "df2['content']=df2['content'].apply(lambda x: x.strip().split('AND'))\n",
        "\n",
        "def f1(x):\n",
        "  for i in range (len(x)):\n",
        "    x[i]=x[i].strip().split('=')\n",
        "  return x \n",
        "df2['content']=df2['content'].apply(lambda x: f1(x) ,0 )\n",
        "\n",
        "df2['content']=df2['content'].apply(lambda x: np.array(x).reshape(len(x),2), 0)\n",
        "\n",
        "def f2(x,c):\n",
        "  if c in x[:,0]:\n",
        "    return (x[int((np.where(x==c))[0]),1])\n",
        "  else :\n",
        "    return('Null')\n",
        "\n",
        "df2['Surname']=df2['content'].apply(lambda x: f2(x,'Surname'), 0)\n",
        "df2['Name']=df2['content'].apply(lambda x: f2(x,'Name'), 0)\n",
        "df2['City']=df2['content'].apply(lambda x: f2(x,'City'), 0)\n",
        "df2['Profession']=df2['content'].apply(lambda x: f2(x,'Profession'), 0)\n",
        "df2['Age']=df2['content'].apply(lambda x: f2(x,'Age'), 0)\n",
        "\n",
        "df2['Age']=df2['Age'].apply(lambda x: int(x) if x!='Null' else x, 0)\n",
        "\n",
        "df2=df2.set_index ('id')"
      ],
      "metadata": {
        "id": "EdriH0oXfXc2"
      },
      "execution_count": 121,
      "outputs": []
    },
    {
      "cell_type": "code",
      "source": [
        "S=S_Matrix (df2, 5)\n",
        "df2=similar(S, df2)"
      ],
      "metadata": {
        "id": "EFPkOxlMdNju"
      },
      "execution_count": 143,
      "outputs": []
    },
    {
      "cell_type": "code",
      "source": [
        "df2"
      ],
      "metadata": {
        "colab": {
          "base_uri": "https://localhost:8080/",
          "height": 1000
        },
        "id": "VfdiRGiPdMlM",
        "outputId": "f288a241-23c5-4fe3-abbe-58445daed35b"
      },
      "execution_count": 135,
      "outputs": [
        {
          "output_type": "execute_result",
          "data": {
            "text/plain": [
              "                                                    content    Surname  \\\n",
              "id                                                                       \n",
              "query_01  [[Profession, architect], [City, Rome], [Age, ...       Null   \n",
              "query_02         [[Profession, pharmacist], [City, Moscow]]       Null   \n",
              "query_03   [[Profession, advertising executive], [Age, 34]]       Null   \n",
              "query_04       [[Profession, financial analyst], [Age, 90]]       Null   \n",
              "query_05  [[Profession, agricultural engineer], [Surname...    Johnson   \n",
              "query_06  [[Profession, teacher], [Surname, Sanders], [A...    Sanders   \n",
              "query_07       [[Profession, psychologist], [City, Dublin]]       Null   \n",
              "query_08    [[City, Odessa], [Surname, Hughes], [Age, 104]]     Hughes   \n",
              "query_09                                   [[City, Tirana]]       Null   \n",
              "query_10                       [[City, Toronto], [Age, 69]]       Null   \n",
              "query_11              [[Profession, barber], [Name, Emily]]       Null   \n",
              "query_12                [[City, Berlin], [Surname, Flores]]     Flores   \n",
              "query_13                   [[Surname, Sullivan], [Age, 82]]   Sullivan   \n",
              "query_14  [[Profession, baker], [Surname, Long], [Age, 19]]       Long   \n",
              "query_15  [[Profession, aerospace engineer], [Surname, H...  Henderson   \n",
              "query_16       [[Profession, therapist], [Surname, Foster]]     Foster   \n",
              "query_17                        [[Age, 29], [Name, Alexis]]       Null   \n",
              "query_18               [[City, Plzen], [Surname, Gonzalez]]   Gonzalez   \n",
              "query_19  [[Profession, biomedical scientist], [Surname,...    Stewart   \n",
              "query_20  [[Profession, air traffic controller], [City, ...    Edwards   \n",
              "query_21  [[Profession, interior designer], [Surname, Gr...     Graham   \n",
              "query_22       [[Surname, Rivera], [Age, 39], [Name, Liam]]     Rivera   \n",
              "query_23   [[Profession, meteorologist], [City, Stockholm]]       Null   \n",
              "query_24         [[Profession, pharmacist], [City, Odessa]]       Null   \n",
              "query_25  [[Profession, athletic trainer], [Surname, Wat...     Watson   \n",
              "query_26  [[Profession, technologist], [City, Tokyo], [N...       Null   \n",
              "query_27                                        [[Age, 46]]       Null   \n",
              "query_28  [[Profession, airline pilot], [City, Christchu...       Null   \n",
              "query_29  [[Profession, civil engineer], [Surname, Morri...     Morris   \n",
              "query_30                     [[City, Bologna], [Name, Ava]]       Null   \n",
              "\n",
              "             Name          City              Profession   Age  \\\n",
              "id                                                              \n",
              "query_01  Ainsley          Rome               architect    38   \n",
              "query_02     Null        Moscow              pharmacist  Null   \n",
              "query_03     Null          Null   advertising executive    34   \n",
              "query_04     Null          Null       financial analyst    90   \n",
              "query_05     Null          Null   agricultural engineer  Null   \n",
              "query_06    Annie          Null                 teacher    96   \n",
              "query_07     Null        Dublin            psychologist  Null   \n",
              "query_08     Null        Odessa                    Null   104   \n",
              "query_09     Null        Tirana                    Null  Null   \n",
              "query_10     Null       Toronto                    Null    69   \n",
              "query_11    Emily          Null                  barber  Null   \n",
              "query_12     Null        Berlin                    Null  Null   \n",
              "query_13     Null          Null                    Null    82   \n",
              "query_14     Null          Null                   baker    19   \n",
              "query_15     Null          Null      aerospace engineer    67   \n",
              "query_16     Null          Null               therapist  Null   \n",
              "query_17   Alexis          Null                    Null    29   \n",
              "query_18     Null         Plzen                    Null  Null   \n",
              "query_19  Delilah          Null    biomedical scientist    30   \n",
              "query_20     Null        Moscow  air traffic controller  Null   \n",
              "query_21  Filippo          Null       interior designer     6   \n",
              "query_22     Liam          Null                    Null    39   \n",
              "query_23     Null     Stockholm           meteorologist  Null   \n",
              "query_24     Null        Odessa              pharmacist  Null   \n",
              "query_25     Dave          Null        athletic trainer    10   \n",
              "query_26  Filippo         Tokyo            technologist  Null   \n",
              "query_27     Null          Null                    Null    46   \n",
              "query_28     Null  Christchurch           airline pilot    29   \n",
              "query_29   Carson          Null          civil engineer  Null   \n",
              "query_30      Ava       Bologna                    Null  Null   \n",
              "\n",
              "                                            Similar_Queries  \n",
              "id                                                           \n",
              "query_01  [[2.0, 0.06896551724137931], [13.0, 0.32758620...  \n",
              "query_02                                                 []  \n",
              "query_03  [[0.0, 0.08], [13.0, 0.3], [16.0, 0.1], [18.0,...  \n",
              "query_04  [[5.0, 0.21428571428571427], [7.0, 0.5], [12.0...  \n",
              "query_05                                                 []  \n",
              "query_06  [[3.0, 0.21428571428571427], [7.0, 0.285714285...  \n",
              "query_07                                                 []  \n",
              "query_08  [[3.0, 0.6363636363636364], [5.0, 0.3636363636...  \n",
              "query_09                                                 []  \n",
              "query_10  [[12.0, 0.8666666666666667], [14.0, 0.13333333...  \n",
              "query_11                                                 []  \n",
              "query_12                                                 []  \n",
              "query_13  [[3.0, 0.16], [5.0, 0.28], [9.0, 0.26], [14.0,...  \n",
              "query_14  [[0.0, 0.21839080459770116], [2.0, 0.172413793...  \n",
              "query_15  [[9.0, 0.11764705882352941], [12.0, 0.88235294...  \n",
              "query_16                                                 []  \n",
              "query_17  [[0.0, 0.1267605633802817], [2.0, 0.0704225352...  \n",
              "query_18                                                 []  \n",
              "query_19  [[0.0, 0.16], [2.0, 0.08], [13.0, 0.22], [16.0...  \n",
              "query_20                                                 []  \n",
              "query_21  [[13.0, 0.7647058823529411], [24.0, 0.23529411...  \n",
              "query_22  [[0.0, 0.023809523809523808], [2.0, 0.11904761...  \n",
              "query_23                                                 []  \n",
              "query_24                                                 []  \n",
              "query_25  [[13.0, 0.17647058823529413], [16.0, 0.3725490...  \n",
              "query_26                                                 []  \n",
              "query_27  [[0.0, 0.1038961038961039], [2.0, 0.1558441558...  \n",
              "query_28  [[0.0, 0.1267605633802817], [2.0, 0.0704225352...  \n",
              "query_29                                                 []  \n",
              "query_30                                                 []  "
            ],
            "text/html": [
              "\n",
              "  <div id=\"df-b553f59f-6749-4d81-b408-da8d2d73e44b\">\n",
              "    <div class=\"colab-df-container\">\n",
              "      <div>\n",
              "<style scoped>\n",
              "    .dataframe tbody tr th:only-of-type {\n",
              "        vertical-align: middle;\n",
              "    }\n",
              "\n",
              "    .dataframe tbody tr th {\n",
              "        vertical-align: top;\n",
              "    }\n",
              "\n",
              "    .dataframe thead th {\n",
              "        text-align: right;\n",
              "    }\n",
              "</style>\n",
              "<table border=\"1\" class=\"dataframe\">\n",
              "  <thead>\n",
              "    <tr style=\"text-align: right;\">\n",
              "      <th></th>\n",
              "      <th>content</th>\n",
              "      <th>Surname</th>\n",
              "      <th>Name</th>\n",
              "      <th>City</th>\n",
              "      <th>Profession</th>\n",
              "      <th>Age</th>\n",
              "      <th>Similar_Queries</th>\n",
              "    </tr>\n",
              "    <tr>\n",
              "      <th>id</th>\n",
              "      <th></th>\n",
              "      <th></th>\n",
              "      <th></th>\n",
              "      <th></th>\n",
              "      <th></th>\n",
              "      <th></th>\n",
              "      <th></th>\n",
              "    </tr>\n",
              "  </thead>\n",
              "  <tbody>\n",
              "    <tr>\n",
              "      <th>query_01</th>\n",
              "      <td>[[Profession, architect], [City, Rome], [Age, ...</td>\n",
              "      <td>Null</td>\n",
              "      <td>Ainsley</td>\n",
              "      <td>Rome</td>\n",
              "      <td>architect</td>\n",
              "      <td>38</td>\n",
              "      <td>[[2.0, 0.06896551724137931], [13.0, 0.32758620...</td>\n",
              "    </tr>\n",
              "    <tr>\n",
              "      <th>query_02</th>\n",
              "      <td>[[Profession, pharmacist], [City, Moscow]]</td>\n",
              "      <td>Null</td>\n",
              "      <td>Null</td>\n",
              "      <td>Moscow</td>\n",
              "      <td>pharmacist</td>\n",
              "      <td>Null</td>\n",
              "      <td>[]</td>\n",
              "    </tr>\n",
              "    <tr>\n",
              "      <th>query_03</th>\n",
              "      <td>[[Profession, advertising executive], [Age, 34]]</td>\n",
              "      <td>Null</td>\n",
              "      <td>Null</td>\n",
              "      <td>Null</td>\n",
              "      <td>advertising executive</td>\n",
              "      <td>34</td>\n",
              "      <td>[[0.0, 0.08], [13.0, 0.3], [16.0, 0.1], [18.0,...</td>\n",
              "    </tr>\n",
              "    <tr>\n",
              "      <th>query_04</th>\n",
              "      <td>[[Profession, financial analyst], [Age, 90]]</td>\n",
              "      <td>Null</td>\n",
              "      <td>Null</td>\n",
              "      <td>Null</td>\n",
              "      <td>financial analyst</td>\n",
              "      <td>90</td>\n",
              "      <td>[[5.0, 0.21428571428571427], [7.0, 0.5], [12.0...</td>\n",
              "    </tr>\n",
              "    <tr>\n",
              "      <th>query_05</th>\n",
              "      <td>[[Profession, agricultural engineer], [Surname...</td>\n",
              "      <td>Johnson</td>\n",
              "      <td>Null</td>\n",
              "      <td>Null</td>\n",
              "      <td>agricultural engineer</td>\n",
              "      <td>Null</td>\n",
              "      <td>[]</td>\n",
              "    </tr>\n",
              "    <tr>\n",
              "      <th>query_06</th>\n",
              "      <td>[[Profession, teacher], [Surname, Sanders], [A...</td>\n",
              "      <td>Sanders</td>\n",
              "      <td>Annie</td>\n",
              "      <td>Null</td>\n",
              "      <td>teacher</td>\n",
              "      <td>96</td>\n",
              "      <td>[[3.0, 0.21428571428571427], [7.0, 0.285714285...</td>\n",
              "    </tr>\n",
              "    <tr>\n",
              "      <th>query_07</th>\n",
              "      <td>[[Profession, psychologist], [City, Dublin]]</td>\n",
              "      <td>Null</td>\n",
              "      <td>Null</td>\n",
              "      <td>Dublin</td>\n",
              "      <td>psychologist</td>\n",
              "      <td>Null</td>\n",
              "      <td>[]</td>\n",
              "    </tr>\n",
              "    <tr>\n",
              "      <th>query_08</th>\n",
              "      <td>[[City, Odessa], [Surname, Hughes], [Age, 104]]</td>\n",
              "      <td>Hughes</td>\n",
              "      <td>Null</td>\n",
              "      <td>Odessa</td>\n",
              "      <td>Null</td>\n",
              "      <td>104</td>\n",
              "      <td>[[3.0, 0.6363636363636364], [5.0, 0.3636363636...</td>\n",
              "    </tr>\n",
              "    <tr>\n",
              "      <th>query_09</th>\n",
              "      <td>[[City, Tirana]]</td>\n",
              "      <td>Null</td>\n",
              "      <td>Null</td>\n",
              "      <td>Tirana</td>\n",
              "      <td>Null</td>\n",
              "      <td>Null</td>\n",
              "      <td>[]</td>\n",
              "    </tr>\n",
              "    <tr>\n",
              "      <th>query_10</th>\n",
              "      <td>[[City, Toronto], [Age, 69]]</td>\n",
              "      <td>Null</td>\n",
              "      <td>Null</td>\n",
              "      <td>Toronto</td>\n",
              "      <td>Null</td>\n",
              "      <td>69</td>\n",
              "      <td>[[12.0, 0.8666666666666667], [14.0, 0.13333333...</td>\n",
              "    </tr>\n",
              "    <tr>\n",
              "      <th>query_11</th>\n",
              "      <td>[[Profession, barber], [Name, Emily]]</td>\n",
              "      <td>Null</td>\n",
              "      <td>Emily</td>\n",
              "      <td>Null</td>\n",
              "      <td>barber</td>\n",
              "      <td>Null</td>\n",
              "      <td>[]</td>\n",
              "    </tr>\n",
              "    <tr>\n",
              "      <th>query_12</th>\n",
              "      <td>[[City, Berlin], [Surname, Flores]]</td>\n",
              "      <td>Flores</td>\n",
              "      <td>Null</td>\n",
              "      <td>Berlin</td>\n",
              "      <td>Null</td>\n",
              "      <td>Null</td>\n",
              "      <td>[]</td>\n",
              "    </tr>\n",
              "    <tr>\n",
              "      <th>query_13</th>\n",
              "      <td>[[Surname, Sullivan], [Age, 82]]</td>\n",
              "      <td>Sullivan</td>\n",
              "      <td>Null</td>\n",
              "      <td>Null</td>\n",
              "      <td>Null</td>\n",
              "      <td>82</td>\n",
              "      <td>[[3.0, 0.16], [5.0, 0.28], [9.0, 0.26], [14.0,...</td>\n",
              "    </tr>\n",
              "    <tr>\n",
              "      <th>query_14</th>\n",
              "      <td>[[Profession, baker], [Surname, Long], [Age, 19]]</td>\n",
              "      <td>Long</td>\n",
              "      <td>Null</td>\n",
              "      <td>Null</td>\n",
              "      <td>baker</td>\n",
              "      <td>19</td>\n",
              "      <td>[[0.0, 0.21839080459770116], [2.0, 0.172413793...</td>\n",
              "    </tr>\n",
              "    <tr>\n",
              "      <th>query_15</th>\n",
              "      <td>[[Profession, aerospace engineer], [Surname, H...</td>\n",
              "      <td>Henderson</td>\n",
              "      <td>Null</td>\n",
              "      <td>Null</td>\n",
              "      <td>aerospace engineer</td>\n",
              "      <td>67</td>\n",
              "      <td>[[9.0, 0.11764705882352941], [12.0, 0.88235294...</td>\n",
              "    </tr>\n",
              "    <tr>\n",
              "      <th>query_16</th>\n",
              "      <td>[[Profession, therapist], [Surname, Foster]]</td>\n",
              "      <td>Foster</td>\n",
              "      <td>Null</td>\n",
              "      <td>Null</td>\n",
              "      <td>therapist</td>\n",
              "      <td>Null</td>\n",
              "      <td>[]</td>\n",
              "    </tr>\n",
              "    <tr>\n",
              "      <th>query_17</th>\n",
              "      <td>[[Age, 29], [Name, Alexis]]</td>\n",
              "      <td>Null</td>\n",
              "      <td>Alexis</td>\n",
              "      <td>Null</td>\n",
              "      <td>Null</td>\n",
              "      <td>29</td>\n",
              "      <td>[[0.0, 0.1267605633802817], [2.0, 0.0704225352...</td>\n",
              "    </tr>\n",
              "    <tr>\n",
              "      <th>query_18</th>\n",
              "      <td>[[City, Plzen], [Surname, Gonzalez]]</td>\n",
              "      <td>Gonzalez</td>\n",
              "      <td>Null</td>\n",
              "      <td>Plzen</td>\n",
              "      <td>Null</td>\n",
              "      <td>Null</td>\n",
              "      <td>[]</td>\n",
              "    </tr>\n",
              "    <tr>\n",
              "      <th>query_19</th>\n",
              "      <td>[[Profession, biomedical scientist], [Surname,...</td>\n",
              "      <td>Stewart</td>\n",
              "      <td>Delilah</td>\n",
              "      <td>Null</td>\n",
              "      <td>biomedical scientist</td>\n",
              "      <td>30</td>\n",
              "      <td>[[0.0, 0.16], [2.0, 0.08], [13.0, 0.22], [16.0...</td>\n",
              "    </tr>\n",
              "    <tr>\n",
              "      <th>query_20</th>\n",
              "      <td>[[Profession, air traffic controller], [City, ...</td>\n",
              "      <td>Edwards</td>\n",
              "      <td>Null</td>\n",
              "      <td>Moscow</td>\n",
              "      <td>air traffic controller</td>\n",
              "      <td>Null</td>\n",
              "      <td>[]</td>\n",
              "    </tr>\n",
              "    <tr>\n",
              "      <th>query_21</th>\n",
              "      <td>[[Profession, interior designer], [Surname, Gr...</td>\n",
              "      <td>Graham</td>\n",
              "      <td>Filippo</td>\n",
              "      <td>Null</td>\n",
              "      <td>interior designer</td>\n",
              "      <td>6</td>\n",
              "      <td>[[13.0, 0.7647058823529411], [24.0, 0.23529411...</td>\n",
              "    </tr>\n",
              "    <tr>\n",
              "      <th>query_22</th>\n",
              "      <td>[[Surname, Rivera], [Age, 39], [Name, Liam]]</td>\n",
              "      <td>Rivera</td>\n",
              "      <td>Liam</td>\n",
              "      <td>Null</td>\n",
              "      <td>Null</td>\n",
              "      <td>39</td>\n",
              "      <td>[[0.0, 0.023809523809523808], [2.0, 0.11904761...</td>\n",
              "    </tr>\n",
              "    <tr>\n",
              "      <th>query_23</th>\n",
              "      <td>[[Profession, meteorologist], [City, Stockholm]]</td>\n",
              "      <td>Null</td>\n",
              "      <td>Null</td>\n",
              "      <td>Stockholm</td>\n",
              "      <td>meteorologist</td>\n",
              "      <td>Null</td>\n",
              "      <td>[]</td>\n",
              "    </tr>\n",
              "    <tr>\n",
              "      <th>query_24</th>\n",
              "      <td>[[Profession, pharmacist], [City, Odessa]]</td>\n",
              "      <td>Null</td>\n",
              "      <td>Null</td>\n",
              "      <td>Odessa</td>\n",
              "      <td>pharmacist</td>\n",
              "      <td>Null</td>\n",
              "      <td>[]</td>\n",
              "    </tr>\n",
              "    <tr>\n",
              "      <th>query_25</th>\n",
              "      <td>[[Profession, athletic trainer], [Surname, Wat...</td>\n",
              "      <td>Watson</td>\n",
              "      <td>Dave</td>\n",
              "      <td>Null</td>\n",
              "      <td>athletic trainer</td>\n",
              "      <td>10</td>\n",
              "      <td>[[13.0, 0.17647058823529413], [16.0, 0.3725490...</td>\n",
              "    </tr>\n",
              "    <tr>\n",
              "      <th>query_26</th>\n",
              "      <td>[[Profession, technologist], [City, Tokyo], [N...</td>\n",
              "      <td>Null</td>\n",
              "      <td>Filippo</td>\n",
              "      <td>Tokyo</td>\n",
              "      <td>technologist</td>\n",
              "      <td>Null</td>\n",
              "      <td>[]</td>\n",
              "    </tr>\n",
              "    <tr>\n",
              "      <th>query_27</th>\n",
              "      <td>[[Age, 46]]</td>\n",
              "      <td>Null</td>\n",
              "      <td>Null</td>\n",
              "      <td>Null</td>\n",
              "      <td>Null</td>\n",
              "      <td>46</td>\n",
              "      <td>[[0.0, 0.1038961038961039], [2.0, 0.1558441558...</td>\n",
              "    </tr>\n",
              "    <tr>\n",
              "      <th>query_28</th>\n",
              "      <td>[[Profession, airline pilot], [City, Christchu...</td>\n",
              "      <td>Null</td>\n",
              "      <td>Null</td>\n",
              "      <td>Christchurch</td>\n",
              "      <td>airline pilot</td>\n",
              "      <td>29</td>\n",
              "      <td>[[0.0, 0.1267605633802817], [2.0, 0.0704225352...</td>\n",
              "    </tr>\n",
              "    <tr>\n",
              "      <th>query_29</th>\n",
              "      <td>[[Profession, civil engineer], [Surname, Morri...</td>\n",
              "      <td>Morris</td>\n",
              "      <td>Carson</td>\n",
              "      <td>Null</td>\n",
              "      <td>civil engineer</td>\n",
              "      <td>Null</td>\n",
              "      <td>[]</td>\n",
              "    </tr>\n",
              "    <tr>\n",
              "      <th>query_30</th>\n",
              "      <td>[[City, Bologna], [Name, Ava]]</td>\n",
              "      <td>Null</td>\n",
              "      <td>Ava</td>\n",
              "      <td>Bologna</td>\n",
              "      <td>Null</td>\n",
              "      <td>Null</td>\n",
              "      <td>[]</td>\n",
              "    </tr>\n",
              "  </tbody>\n",
              "</table>\n",
              "</div>\n",
              "      <button class=\"colab-df-convert\" onclick=\"convertToInteractive('df-b553f59f-6749-4d81-b408-da8d2d73e44b')\"\n",
              "              title=\"Convert this dataframe to an interactive table.\"\n",
              "              style=\"display:none;\">\n",
              "        \n",
              "  <svg xmlns=\"http://www.w3.org/2000/svg\" height=\"24px\"viewBox=\"0 0 24 24\"\n",
              "       width=\"24px\">\n",
              "    <path d=\"M0 0h24v24H0V0z\" fill=\"none\"/>\n",
              "    <path d=\"M18.56 5.44l.94 2.06.94-2.06 2.06-.94-2.06-.94-.94-2.06-.94 2.06-2.06.94zm-11 1L8.5 8.5l.94-2.06 2.06-.94-2.06-.94L8.5 2.5l-.94 2.06-2.06.94zm10 10l.94 2.06.94-2.06 2.06-.94-2.06-.94-.94-2.06-.94 2.06-2.06.94z\"/><path d=\"M17.41 7.96l-1.37-1.37c-.4-.4-.92-.59-1.43-.59-.52 0-1.04.2-1.43.59L10.3 9.45l-7.72 7.72c-.78.78-.78 2.05 0 2.83L4 21.41c.39.39.9.59 1.41.59.51 0 1.02-.2 1.41-.59l7.78-7.78 2.81-2.81c.8-.78.8-2.07 0-2.86zM5.41 20L4 18.59l7.72-7.72 1.47 1.35L5.41 20z\"/>\n",
              "  </svg>\n",
              "      </button>\n",
              "      \n",
              "  <style>\n",
              "    .colab-df-container {\n",
              "      display:flex;\n",
              "      flex-wrap:wrap;\n",
              "      gap: 12px;\n",
              "    }\n",
              "\n",
              "    .colab-df-convert {\n",
              "      background-color: #E8F0FE;\n",
              "      border: none;\n",
              "      border-radius: 50%;\n",
              "      cursor: pointer;\n",
              "      display: none;\n",
              "      fill: #1967D2;\n",
              "      height: 32px;\n",
              "      padding: 0 0 0 0;\n",
              "      width: 32px;\n",
              "    }\n",
              "\n",
              "    .colab-df-convert:hover {\n",
              "      background-color: #E2EBFA;\n",
              "      box-shadow: 0px 1px 2px rgba(60, 64, 67, 0.3), 0px 1px 3px 1px rgba(60, 64, 67, 0.15);\n",
              "      fill: #174EA6;\n",
              "    }\n",
              "\n",
              "    [theme=dark] .colab-df-convert {\n",
              "      background-color: #3B4455;\n",
              "      fill: #D2E3FC;\n",
              "    }\n",
              "\n",
              "    [theme=dark] .colab-df-convert:hover {\n",
              "      background-color: #434B5C;\n",
              "      box-shadow: 0px 1px 3px 1px rgba(0, 0, 0, 0.15);\n",
              "      filter: drop-shadow(0px 1px 2px rgba(0, 0, 0, 0.3));\n",
              "      fill: #FFFFFF;\n",
              "    }\n",
              "  </style>\n",
              "\n",
              "      <script>\n",
              "        const buttonEl =\n",
              "          document.querySelector('#df-b553f59f-6749-4d81-b408-da8d2d73e44b button.colab-df-convert');\n",
              "        buttonEl.style.display =\n",
              "          google.colab.kernel.accessAllowed ? 'block' : 'none';\n",
              "\n",
              "        async function convertToInteractive(key) {\n",
              "          const element = document.querySelector('#df-b553f59f-6749-4d81-b408-da8d2d73e44b');\n",
              "          const dataTable =\n",
              "            await google.colab.kernel.invokeFunction('convertToInteractive',\n",
              "                                                     [key], {});\n",
              "          if (!dataTable) return;\n",
              "\n",
              "          const docLinkHtml = 'Like what you see? Visit the ' +\n",
              "            '<a target=\"_blank\" href=https://colab.research.google.com/notebooks/data_table.ipynb>data table notebook</a>'\n",
              "            + ' to learn more about interactive tables.';\n",
              "          element.innerHTML = '';\n",
              "          dataTable['output_type'] = 'display_data';\n",
              "          await google.colab.output.renderOutput(dataTable, element);\n",
              "          const docLink = document.createElement('div');\n",
              "          docLink.innerHTML = docLinkHtml;\n",
              "          element.appendChild(docLink);\n",
              "        }\n",
              "      </script>\n",
              "    </div>\n",
              "  </div>\n",
              "  "
            ]
          },
          "metadata": {},
          "execution_count": 135
        }
      ]
    },
    {
      "cell_type": "code",
      "source": [],
      "metadata": {
        "id": "e_NNvqC03y0_"
      },
      "execution_count": null,
      "outputs": []
    }
  ]
}